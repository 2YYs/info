{
 "cells": [
  {
   "cell_type": "markdown",
   "id": "d8d64d04",
   "metadata": {},
   "source": [
    "# Een Analyse van Lonen en Werkgelegenheid in Amerika door immigratie\n",
    "*Yurish Koebeer, Abuzar Hosseini, Mohamed el Harchaoui en Mouad Kasmi*"
   ]
  },
  {
   "cell_type": "markdown",
   "id": "b9bf94b4",
   "metadata": {},
   "source": [
    "## Introductie\n",
    "Amerika trekt immigranten van over de hele wereld aan vanwege betere economische vooruitzichten, een hogere levensstandaard en grotere persoonlijke vrijheden. Veel immigranten hopen op een betere toekomst voor henzelf en hun gezinnen, vaak gedreven door uitdagingen zoals politieke instabiliteit en beperkte kansen in hun thuislanden. De Amerikaanse arbeidsmarkt biedt diverse mogelijkheden en hogere lonen.\n",
    "Het immigratieproces naar de VS is echter complex en omvat het verkrijgen van visa, achtergrondcontroles en lange wachttijden voor gezinshereniging. Ondanks deze obstakels blijft de wens om de \"Amerikaanse Droom\" te verwezenlijken sterk. Maar door de immigratie zijn er ook verschillende meningen over hoe dit invloed heeft op de Amerikaanse arbeidsmarkt, met aandacht op het minimumloon van de lagere klasse waarvan hun werk wordt overgenomen door immigranten die willen werken voor een lagere loon.\n",
    "Immigratie en de invloed ervan op de lonen van Amerikaanse werknemers is dus een veelbesproken onderwerp. Sommige mensen denken dat een toestroom van immigranten het arbeidsaanbod vergroot, wat de lonen kan verlagen, vooral in laaggeschoolde sectoren. ___“Both low- and high-skilled natives are affected by the influx of immigrants. But because a disproportionate percentage of immigrants have few skills, it is low-skilled American workers, including many blacks and Hispanics, who have suffered most from this wage dip” (Borjas, 2016)___\n",
    "Dit komt doordat de concurrentie voor banen toeneemt, wat de onderhandelingspositie van inheemse werknemers verzwakt.\n",
    "\n",
    "Aan de andere kant zijn er mensen die geloven dat immigranten de economische groei stimuleren, essentiële rollen vervullen en innovatie bevorderen. ___“However, immigration can also expand the demand for workers and thus create new jobs. For example, migrants themselves buy goods and services, increasing demand. Employers may increase production in sectors where migration allows them to employ more people” (Vargas-Silva & Sumption, 2023)___. Dit zou uiteindelijk kunnen leiden tot hogere lonen en meer welvaart voor iedereen.\n",
    "\n",
    "Een recent voorbeeld is het beleid van voormalig president Donald Trump. Tijdens zijn presidentschap werden maatregelen genomen om de immigratie te beperken, zoals strengere regels voor asielaanvragen en het blokkeren van migranten uit bepaalde landen. In dezelfde periode zagen we een daling van de werkloosheid en een stijging van de lonen. De vraag is echter of deze verbeteringen direct toe te schrijven zijn aan de afname van de immigratie, of dat er andere factoren meespelen.\n",
    "\n",
    "In deze studie onderzoeken we deze verschillende perspectieven en proberen we de complexe dynamiek van immigratie en de effecten ervan op de Amerikaanse arbeidsmarkt te begrijpen.\n",
    "\n"
   ]
  },
  {
   "cell_type": "markdown",
   "id": "c7239904",
   "metadata": {},
   "source": [
    "## Dataset en Voorverwerking\n",
    "\n",
    "\n",
    "In het streven naar het bieden van een duidelijk overzicht, hebben we besloten om 3 datasets te gebruiken. In eerste instantie hadden we er maar twee, maar na het onderzoeken van onze resultaten vanuit het tweede perspectief, dachten we dat het een goed idee zou zijn om deze bevindingen nog verder te ondersteunen door gebruik te maken van een andere dataset.\n",
    "\n",
    "\n",
    "\n",
    "\n",
    "Uiteindelijk hebben we gekozen voor de volgende datasets: [US Immigration Statistics (1980-2021)](https://www.kaggle.com/datasets/justin2028/us-immigration-statistics-1980-2021), [Minimum Wage by State](https://www.kaggle.com/datasets/lislejoem/us-minimum-wage-by-state-from-1968-to-2017) en [US Unemployment Data (1948-2021)](https://www.kaggle.com/code/qusaybtoush1990/us-unemployment-data-1948-2021/input)\n",
    "\n",
    "\n",
    "We hebben deze datasets gekozen omdat ze complementaire perspectieven bieden op de economische en sociale trends in de Verenigde Staten. De immigratiestatistieken geven inzicht in de demografische veranderingen en migratiepatronen, terwijl de gegevens over het minimumloon per staat de economische omstandigheden op regionaal niveau weerspiegelen. De werkloosheidsgegevens bieden een historisch overzicht van de arbeidsmarkttrends. Samen bieden deze datasets een uitgebreid beeld van de factoren die de economische en sociale dynamiek in de VS beïnvloeden.\n",
    "\n",
    "\n",
    "\n",
    "\n",
    "### Opschonen\n",
    "\n",
    "\n",
    "Elke dataset bevatte enkele wijzigingen, zoals kolomhernoemingen of structurele wijzigingen. We moesten twee fasen doorlopen om alles correct op te schonen. De eerste fase is waarin kolommen worden hernoemd en herstructureerd om ze samen te voegen. Kolommen zijn handmatig samengevoegd door ze één voor één te inspecteren en de kolommen samen te voegen die ongeveer dezelfde naam of inhoud hebben qua wat ze vertegenwoordigen. Kolommen die niet nuttig waren, werden onmiddellijk uitgesloten tijdens dit proces.\n",
    "\n",
    "\n",
    "De tweede fase omvat het normaliseren van de data. In het algemeen is dit gedaan door de unieke waarden voor elke kolom grondig te inspecteren en waarden die dezelfde betekenis vertegenwoordigen te combineren.\n",
    "\n",
    "\n",
    "Daarnaast hebben we een gecorrigeerde dataset gemaakt van het werkloosheidspercentage zodat deze samenviel met de rest van de data (van 1980-2020 in plaats van 1968-2020).\n",
    "\n",
    "\n",
    "### Variabele Beschrijvingen\n",
    "\n",
    "\n",
    "Qua variabele type en meetschaal kunnen de variabelen in de uiteindelijke dataset worden ingedeeld in verschillende combinaties:\n",
    "\n",
    "\n",
    "- **Continue / Ratio variabelen:** Year, unrate, unrate_men, unrate_women, unrate_16_to_17, unrate_18_to_19, unrate_20_to_24, unrate_25_to_34, unrate_35_to_44, unrate_45_to_54, unrate_55_over, Federal.Minimum.Wage, Federal.Minimum.Wage.2020.Dollars, Effective.Minimum.Wage, Effective.Minimum.Wage.2020.Dollars, CPI.Average, Department.Of.Labor.Cleaned.Low.Value, Department.Of.Labor.Cleaned.Low.Value.2020.Dollars, Department.Of.Labor.Cleaned.High.Value, Department.Of.Labor.Cleaned.High.Value.2020.Dollars\n",
    "- **Discrete / Ordinale variabelen:** None identified in these datasets\n",
    "- **Discrete / Nominale variabelen:** date, State, Footnote\n",
    "\n",
    "\n",
    "Variabelen die relevant voor het onderzoek zijn als volgd: Year, Immigrants Obtaining Lawful Permanent Resident Status, Average Wage, CPI.Average, High.2018, Low.2018, Immigrant Population Level, Refugee arrivals, Effective.Minimum.Wage.2020.Dollars"
   ]
  },
  {
   "cell_type": "code",
   "execution_count": 1,
   "id": "283a2fcd",
   "metadata": {
    "tags": [
     "hide-input"
    ]
   },
   "outputs": [
    {
     "ename": "FileNotFoundError",
     "evalue": "[Errno 2] No such file or directory: 'immigration_statistics_us.csv'",
     "output_type": "error",
     "traceback": [
      "\u001b[0;31m---------------------------------------------------------------------------\u001b[0m",
      "\u001b[0;31mFileNotFoundError\u001b[0m                         Traceback (most recent call last)",
      "Cell \u001b[0;32mIn [1], line 5\u001b[0m\n\u001b[1;32m      2\u001b[0m \u001b[38;5;28;01mimport\u001b[39;00m \u001b[38;5;21;01mmatplotlib\u001b[39;00m\u001b[38;5;21;01m.\u001b[39;00m\u001b[38;5;21;01mpyplot\u001b[39;00m \u001b[38;5;28;01mas\u001b[39;00m \u001b[38;5;21;01mplt\u001b[39;00m\n\u001b[1;32m      3\u001b[0m \u001b[38;5;28;01mimport\u001b[39;00m \u001b[38;5;21;01mseaborn\u001b[39;00m \u001b[38;5;28;01mas\u001b[39;00m \u001b[38;5;21;01msns\u001b[39;00m\n\u001b[0;32m----> 5\u001b[0m dataset1 \u001b[38;5;241m=\u001b[39m pd\u001b[38;5;241m.\u001b[39mread_csv(\u001b[38;5;124m'\u001b[39m\u001b[38;5;124mimmigration_statistics_us.csv\u001b[39m\u001b[38;5;124m'\u001b[39m, encoding\u001b[38;5;241m=\u001b[39m\u001b[38;5;124m'\u001b[39m\u001b[38;5;124mISO-8859-1\u001b[39m\u001b[38;5;124m'\u001b[39m)\n\u001b[1;32m      6\u001b[0m dataset2 \u001b[38;5;241m=\u001b[39m pd\u001b[38;5;241m.\u001b[39mread_csv(\u001b[38;5;124m'\u001b[39m\u001b[38;5;124mminimum_wage_us.csv\u001b[39m\u001b[38;5;124m'\u001b[39m, encoding\u001b[38;5;241m=\u001b[39m\u001b[38;5;124m'\u001b[39m\u001b[38;5;124mISO-8859-1\u001b[39m\u001b[38;5;124m'\u001b[39m)\n\u001b[1;32m      7\u001b[0m \u001b[38;5;66;03m# dataset3 = pd.read_csv('unemployment_rate_data.csv', encoding='ISO-8859-1')\u001b[39;00m\n",
      "File \u001b[0;32m~/opt/miniconda3/envs/tensorflow/lib/python3.9/site-packages/pandas/util/_decorators.py:211\u001b[0m, in \u001b[0;36mdeprecate_kwarg.<locals>._deprecate_kwarg.<locals>.wrapper\u001b[0;34m(*args, **kwargs)\u001b[0m\n\u001b[1;32m    209\u001b[0m     \u001b[38;5;28;01melse\u001b[39;00m:\n\u001b[1;32m    210\u001b[0m         kwargs[new_arg_name] \u001b[38;5;241m=\u001b[39m new_arg_value\n\u001b[0;32m--> 211\u001b[0m \u001b[38;5;28;01mreturn\u001b[39;00m \u001b[43mfunc\u001b[49m\u001b[43m(\u001b[49m\u001b[38;5;241;43m*\u001b[39;49m\u001b[43margs\u001b[49m\u001b[43m,\u001b[49m\u001b[43m \u001b[49m\u001b[38;5;241;43m*\u001b[39;49m\u001b[38;5;241;43m*\u001b[39;49m\u001b[43mkwargs\u001b[49m\u001b[43m)\u001b[49m\n",
      "File \u001b[0;32m~/opt/miniconda3/envs/tensorflow/lib/python3.9/site-packages/pandas/util/_decorators.py:331\u001b[0m, in \u001b[0;36mdeprecate_nonkeyword_arguments.<locals>.decorate.<locals>.wrapper\u001b[0;34m(*args, **kwargs)\u001b[0m\n\u001b[1;32m    325\u001b[0m \u001b[38;5;28;01mif\u001b[39;00m \u001b[38;5;28mlen\u001b[39m(args) \u001b[38;5;241m>\u001b[39m num_allow_args:\n\u001b[1;32m    326\u001b[0m     warnings\u001b[38;5;241m.\u001b[39mwarn(\n\u001b[1;32m    327\u001b[0m         msg\u001b[38;5;241m.\u001b[39mformat(arguments\u001b[38;5;241m=\u001b[39m_format_argument_list(allow_args)),\n\u001b[1;32m    328\u001b[0m         \u001b[38;5;167;01mFutureWarning\u001b[39;00m,\n\u001b[1;32m    329\u001b[0m         stacklevel\u001b[38;5;241m=\u001b[39mfind_stack_level(),\n\u001b[1;32m    330\u001b[0m     )\n\u001b[0;32m--> 331\u001b[0m \u001b[38;5;28;01mreturn\u001b[39;00m \u001b[43mfunc\u001b[49m\u001b[43m(\u001b[49m\u001b[38;5;241;43m*\u001b[39;49m\u001b[43margs\u001b[49m\u001b[43m,\u001b[49m\u001b[43m \u001b[49m\u001b[38;5;241;43m*\u001b[39;49m\u001b[38;5;241;43m*\u001b[39;49m\u001b[43mkwargs\u001b[49m\u001b[43m)\u001b[49m\n",
      "File \u001b[0;32m~/opt/miniconda3/envs/tensorflow/lib/python3.9/site-packages/pandas/io/parsers/readers.py:950\u001b[0m, in \u001b[0;36mread_csv\u001b[0;34m(filepath_or_buffer, sep, delimiter, header, names, index_col, usecols, squeeze, prefix, mangle_dupe_cols, dtype, engine, converters, true_values, false_values, skipinitialspace, skiprows, skipfooter, nrows, na_values, keep_default_na, na_filter, verbose, skip_blank_lines, parse_dates, infer_datetime_format, keep_date_col, date_parser, dayfirst, cache_dates, iterator, chunksize, compression, thousands, decimal, lineterminator, quotechar, quoting, doublequote, escapechar, comment, encoding, encoding_errors, dialect, error_bad_lines, warn_bad_lines, on_bad_lines, delim_whitespace, low_memory, memory_map, float_precision, storage_options)\u001b[0m\n\u001b[1;32m    935\u001b[0m kwds_defaults \u001b[38;5;241m=\u001b[39m _refine_defaults_read(\n\u001b[1;32m    936\u001b[0m     dialect,\n\u001b[1;32m    937\u001b[0m     delimiter,\n\u001b[0;32m   (...)\u001b[0m\n\u001b[1;32m    946\u001b[0m     defaults\u001b[38;5;241m=\u001b[39m{\u001b[38;5;124m\"\u001b[39m\u001b[38;5;124mdelimiter\u001b[39m\u001b[38;5;124m\"\u001b[39m: \u001b[38;5;124m\"\u001b[39m\u001b[38;5;124m,\u001b[39m\u001b[38;5;124m\"\u001b[39m},\n\u001b[1;32m    947\u001b[0m )\n\u001b[1;32m    948\u001b[0m kwds\u001b[38;5;241m.\u001b[39mupdate(kwds_defaults)\n\u001b[0;32m--> 950\u001b[0m \u001b[38;5;28;01mreturn\u001b[39;00m \u001b[43m_read\u001b[49m\u001b[43m(\u001b[49m\u001b[43mfilepath_or_buffer\u001b[49m\u001b[43m,\u001b[49m\u001b[43m \u001b[49m\u001b[43mkwds\u001b[49m\u001b[43m)\u001b[49m\n",
      "File \u001b[0;32m~/opt/miniconda3/envs/tensorflow/lib/python3.9/site-packages/pandas/io/parsers/readers.py:605\u001b[0m, in \u001b[0;36m_read\u001b[0;34m(filepath_or_buffer, kwds)\u001b[0m\n\u001b[1;32m    602\u001b[0m _validate_names(kwds\u001b[38;5;241m.\u001b[39mget(\u001b[38;5;124m\"\u001b[39m\u001b[38;5;124mnames\u001b[39m\u001b[38;5;124m\"\u001b[39m, \u001b[38;5;28;01mNone\u001b[39;00m))\n\u001b[1;32m    604\u001b[0m \u001b[38;5;66;03m# Create the parser.\u001b[39;00m\n\u001b[0;32m--> 605\u001b[0m parser \u001b[38;5;241m=\u001b[39m \u001b[43mTextFileReader\u001b[49m\u001b[43m(\u001b[49m\u001b[43mfilepath_or_buffer\u001b[49m\u001b[43m,\u001b[49m\u001b[43m \u001b[49m\u001b[38;5;241;43m*\u001b[39;49m\u001b[38;5;241;43m*\u001b[39;49m\u001b[43mkwds\u001b[49m\u001b[43m)\u001b[49m\n\u001b[1;32m    607\u001b[0m \u001b[38;5;28;01mif\u001b[39;00m chunksize \u001b[38;5;129;01mor\u001b[39;00m iterator:\n\u001b[1;32m    608\u001b[0m     \u001b[38;5;28;01mreturn\u001b[39;00m parser\n",
      "File \u001b[0;32m~/opt/miniconda3/envs/tensorflow/lib/python3.9/site-packages/pandas/io/parsers/readers.py:1442\u001b[0m, in \u001b[0;36mTextFileReader.__init__\u001b[0;34m(self, f, engine, **kwds)\u001b[0m\n\u001b[1;32m   1439\u001b[0m     \u001b[38;5;28mself\u001b[39m\u001b[38;5;241m.\u001b[39moptions[\u001b[38;5;124m\"\u001b[39m\u001b[38;5;124mhas_index_names\u001b[39m\u001b[38;5;124m\"\u001b[39m] \u001b[38;5;241m=\u001b[39m kwds[\u001b[38;5;124m\"\u001b[39m\u001b[38;5;124mhas_index_names\u001b[39m\u001b[38;5;124m\"\u001b[39m]\n\u001b[1;32m   1441\u001b[0m \u001b[38;5;28mself\u001b[39m\u001b[38;5;241m.\u001b[39mhandles: IOHandles \u001b[38;5;241m|\u001b[39m \u001b[38;5;28;01mNone\u001b[39;00m \u001b[38;5;241m=\u001b[39m \u001b[38;5;28;01mNone\u001b[39;00m\n\u001b[0;32m-> 1442\u001b[0m \u001b[38;5;28mself\u001b[39m\u001b[38;5;241m.\u001b[39m_engine \u001b[38;5;241m=\u001b[39m \u001b[38;5;28;43mself\u001b[39;49m\u001b[38;5;241;43m.\u001b[39;49m\u001b[43m_make_engine\u001b[49m\u001b[43m(\u001b[49m\u001b[43mf\u001b[49m\u001b[43m,\u001b[49m\u001b[43m \u001b[49m\u001b[38;5;28;43mself\u001b[39;49m\u001b[38;5;241;43m.\u001b[39;49m\u001b[43mengine\u001b[49m\u001b[43m)\u001b[49m\n",
      "File \u001b[0;32m~/opt/miniconda3/envs/tensorflow/lib/python3.9/site-packages/pandas/io/parsers/readers.py:1735\u001b[0m, in \u001b[0;36mTextFileReader._make_engine\u001b[0;34m(self, f, engine)\u001b[0m\n\u001b[1;32m   1733\u001b[0m     \u001b[38;5;28;01mif\u001b[39;00m \u001b[38;5;124m\"\u001b[39m\u001b[38;5;124mb\u001b[39m\u001b[38;5;124m\"\u001b[39m \u001b[38;5;129;01mnot\u001b[39;00m \u001b[38;5;129;01min\u001b[39;00m mode:\n\u001b[1;32m   1734\u001b[0m         mode \u001b[38;5;241m+\u001b[39m\u001b[38;5;241m=\u001b[39m \u001b[38;5;124m\"\u001b[39m\u001b[38;5;124mb\u001b[39m\u001b[38;5;124m\"\u001b[39m\n\u001b[0;32m-> 1735\u001b[0m \u001b[38;5;28mself\u001b[39m\u001b[38;5;241m.\u001b[39mhandles \u001b[38;5;241m=\u001b[39m \u001b[43mget_handle\u001b[49m\u001b[43m(\u001b[49m\n\u001b[1;32m   1736\u001b[0m \u001b[43m    \u001b[49m\u001b[43mf\u001b[49m\u001b[43m,\u001b[49m\n\u001b[1;32m   1737\u001b[0m \u001b[43m    \u001b[49m\u001b[43mmode\u001b[49m\u001b[43m,\u001b[49m\n\u001b[1;32m   1738\u001b[0m \u001b[43m    \u001b[49m\u001b[43mencoding\u001b[49m\u001b[38;5;241;43m=\u001b[39;49m\u001b[38;5;28;43mself\u001b[39;49m\u001b[38;5;241;43m.\u001b[39;49m\u001b[43moptions\u001b[49m\u001b[38;5;241;43m.\u001b[39;49m\u001b[43mget\u001b[49m\u001b[43m(\u001b[49m\u001b[38;5;124;43m\"\u001b[39;49m\u001b[38;5;124;43mencoding\u001b[39;49m\u001b[38;5;124;43m\"\u001b[39;49m\u001b[43m,\u001b[49m\u001b[43m \u001b[49m\u001b[38;5;28;43;01mNone\u001b[39;49;00m\u001b[43m)\u001b[49m\u001b[43m,\u001b[49m\n\u001b[1;32m   1739\u001b[0m \u001b[43m    \u001b[49m\u001b[43mcompression\u001b[49m\u001b[38;5;241;43m=\u001b[39;49m\u001b[38;5;28;43mself\u001b[39;49m\u001b[38;5;241;43m.\u001b[39;49m\u001b[43moptions\u001b[49m\u001b[38;5;241;43m.\u001b[39;49m\u001b[43mget\u001b[49m\u001b[43m(\u001b[49m\u001b[38;5;124;43m\"\u001b[39;49m\u001b[38;5;124;43mcompression\u001b[39;49m\u001b[38;5;124;43m\"\u001b[39;49m\u001b[43m,\u001b[49m\u001b[43m \u001b[49m\u001b[38;5;28;43;01mNone\u001b[39;49;00m\u001b[43m)\u001b[49m\u001b[43m,\u001b[49m\n\u001b[1;32m   1740\u001b[0m \u001b[43m    \u001b[49m\u001b[43mmemory_map\u001b[49m\u001b[38;5;241;43m=\u001b[39;49m\u001b[38;5;28;43mself\u001b[39;49m\u001b[38;5;241;43m.\u001b[39;49m\u001b[43moptions\u001b[49m\u001b[38;5;241;43m.\u001b[39;49m\u001b[43mget\u001b[49m\u001b[43m(\u001b[49m\u001b[38;5;124;43m\"\u001b[39;49m\u001b[38;5;124;43mmemory_map\u001b[39;49m\u001b[38;5;124;43m\"\u001b[39;49m\u001b[43m,\u001b[49m\u001b[43m \u001b[49m\u001b[38;5;28;43;01mFalse\u001b[39;49;00m\u001b[43m)\u001b[49m\u001b[43m,\u001b[49m\n\u001b[1;32m   1741\u001b[0m \u001b[43m    \u001b[49m\u001b[43mis_text\u001b[49m\u001b[38;5;241;43m=\u001b[39;49m\u001b[43mis_text\u001b[49m\u001b[43m,\u001b[49m\n\u001b[1;32m   1742\u001b[0m \u001b[43m    \u001b[49m\u001b[43merrors\u001b[49m\u001b[38;5;241;43m=\u001b[39;49m\u001b[38;5;28;43mself\u001b[39;49m\u001b[38;5;241;43m.\u001b[39;49m\u001b[43moptions\u001b[49m\u001b[38;5;241;43m.\u001b[39;49m\u001b[43mget\u001b[49m\u001b[43m(\u001b[49m\u001b[38;5;124;43m\"\u001b[39;49m\u001b[38;5;124;43mencoding_errors\u001b[39;49m\u001b[38;5;124;43m\"\u001b[39;49m\u001b[43m,\u001b[49m\u001b[43m \u001b[49m\u001b[38;5;124;43m\"\u001b[39;49m\u001b[38;5;124;43mstrict\u001b[39;49m\u001b[38;5;124;43m\"\u001b[39;49m\u001b[43m)\u001b[49m\u001b[43m,\u001b[49m\n\u001b[1;32m   1743\u001b[0m \u001b[43m    \u001b[49m\u001b[43mstorage_options\u001b[49m\u001b[38;5;241;43m=\u001b[39;49m\u001b[38;5;28;43mself\u001b[39;49m\u001b[38;5;241;43m.\u001b[39;49m\u001b[43moptions\u001b[49m\u001b[38;5;241;43m.\u001b[39;49m\u001b[43mget\u001b[49m\u001b[43m(\u001b[49m\u001b[38;5;124;43m\"\u001b[39;49m\u001b[38;5;124;43mstorage_options\u001b[39;49m\u001b[38;5;124;43m\"\u001b[39;49m\u001b[43m,\u001b[49m\u001b[43m \u001b[49m\u001b[38;5;28;43;01mNone\u001b[39;49;00m\u001b[43m)\u001b[49m\u001b[43m,\u001b[49m\n\u001b[1;32m   1744\u001b[0m \u001b[43m\u001b[49m\u001b[43m)\u001b[49m\n\u001b[1;32m   1745\u001b[0m \u001b[38;5;28;01massert\u001b[39;00m \u001b[38;5;28mself\u001b[39m\u001b[38;5;241m.\u001b[39mhandles \u001b[38;5;129;01mis\u001b[39;00m \u001b[38;5;129;01mnot\u001b[39;00m \u001b[38;5;28;01mNone\u001b[39;00m\n\u001b[1;32m   1746\u001b[0m f \u001b[38;5;241m=\u001b[39m \u001b[38;5;28mself\u001b[39m\u001b[38;5;241m.\u001b[39mhandles\u001b[38;5;241m.\u001b[39mhandle\n",
      "File \u001b[0;32m~/opt/miniconda3/envs/tensorflow/lib/python3.9/site-packages/pandas/io/common.py:856\u001b[0m, in \u001b[0;36mget_handle\u001b[0;34m(path_or_buf, mode, encoding, compression, memory_map, is_text, errors, storage_options)\u001b[0m\n\u001b[1;32m    851\u001b[0m \u001b[38;5;28;01melif\u001b[39;00m \u001b[38;5;28misinstance\u001b[39m(handle, \u001b[38;5;28mstr\u001b[39m):\n\u001b[1;32m    852\u001b[0m     \u001b[38;5;66;03m# Check whether the filename is to be opened in binary mode.\u001b[39;00m\n\u001b[1;32m    853\u001b[0m     \u001b[38;5;66;03m# Binary mode does not support 'encoding' and 'newline'.\u001b[39;00m\n\u001b[1;32m    854\u001b[0m     \u001b[38;5;28;01mif\u001b[39;00m ioargs\u001b[38;5;241m.\u001b[39mencoding \u001b[38;5;129;01mand\u001b[39;00m \u001b[38;5;124m\"\u001b[39m\u001b[38;5;124mb\u001b[39m\u001b[38;5;124m\"\u001b[39m \u001b[38;5;129;01mnot\u001b[39;00m \u001b[38;5;129;01min\u001b[39;00m ioargs\u001b[38;5;241m.\u001b[39mmode:\n\u001b[1;32m    855\u001b[0m         \u001b[38;5;66;03m# Encoding\u001b[39;00m\n\u001b[0;32m--> 856\u001b[0m         handle \u001b[38;5;241m=\u001b[39m \u001b[38;5;28;43mopen\u001b[39;49m\u001b[43m(\u001b[49m\n\u001b[1;32m    857\u001b[0m \u001b[43m            \u001b[49m\u001b[43mhandle\u001b[49m\u001b[43m,\u001b[49m\n\u001b[1;32m    858\u001b[0m \u001b[43m            \u001b[49m\u001b[43mioargs\u001b[49m\u001b[38;5;241;43m.\u001b[39;49m\u001b[43mmode\u001b[49m\u001b[43m,\u001b[49m\n\u001b[1;32m    859\u001b[0m \u001b[43m            \u001b[49m\u001b[43mencoding\u001b[49m\u001b[38;5;241;43m=\u001b[39;49m\u001b[43mioargs\u001b[49m\u001b[38;5;241;43m.\u001b[39;49m\u001b[43mencoding\u001b[49m\u001b[43m,\u001b[49m\n\u001b[1;32m    860\u001b[0m \u001b[43m            \u001b[49m\u001b[43merrors\u001b[49m\u001b[38;5;241;43m=\u001b[39;49m\u001b[43merrors\u001b[49m\u001b[43m,\u001b[49m\n\u001b[1;32m    861\u001b[0m \u001b[43m            \u001b[49m\u001b[43mnewline\u001b[49m\u001b[38;5;241;43m=\u001b[39;49m\u001b[38;5;124;43m\"\u001b[39;49m\u001b[38;5;124;43m\"\u001b[39;49m\u001b[43m,\u001b[49m\n\u001b[1;32m    862\u001b[0m \u001b[43m        \u001b[49m\u001b[43m)\u001b[49m\n\u001b[1;32m    863\u001b[0m     \u001b[38;5;28;01melse\u001b[39;00m:\n\u001b[1;32m    864\u001b[0m         \u001b[38;5;66;03m# Binary mode\u001b[39;00m\n\u001b[1;32m    865\u001b[0m         handle \u001b[38;5;241m=\u001b[39m \u001b[38;5;28mopen\u001b[39m(handle, ioargs\u001b[38;5;241m.\u001b[39mmode)\n",
      "\u001b[0;31mFileNotFoundError\u001b[0m: [Errno 2] No such file or directory: 'immigration_statistics_us.csv'"
     ]
    }
   ],
   "source": [
    "import pandas as pd\n",
    "import matplotlib.pyplot as plt\n",
    "import seaborn as sns\n",
    "\n",
    "dataset1 = pd.read_csv('immigration_statistics_us.csv', encoding='ISO-8859-1')\n",
    "dataset2 = pd.read_csv('minimum_wage_us.csv', encoding='ISO-8859-1')\n",
    "# dataset3 = pd.read_csv('unemployment_rate_data.csv', encoding='ISO-8859-1')\n",
    "dataset3 = pd.read_csv('unemployment_rate_data_corrected.csv', encoding='ISO-8859-1')"
   ]
  },
  {
   "cell_type": "code",
   "execution_count": null,
   "id": "74dcc1bf",
   "metadata": {
    "tags": [
     "hide-input"
    ]
   },
   "outputs": [],
   "source": [
    "dataset1['Immigrants Obtaining Lawful Permanent Resident Status'] = dataset1['Immigrants Obtaining Lawful Permanent Resident Status'].str.replace(',', '').astype(int)"
   ]
  },
  {
   "cell_type": "markdown",
   "id": "2589559e",
   "metadata": {},
   "source": [
    "## Visualisaties"
   ]
  },
  {
   "cell_type": "markdown",
   "id": "dbc28396",
   "metadata": {},
   "source": [
    "### Trend of Immigrants Obtaining Lawful Permanent Resident Status"
   ]
  },
  {
   "cell_type": "markdown",
   "id": "bea38ee6",
   "metadata": {},
   "source": [
    "De Verenigde Staten is altijd bekend geweest voor de immigranten waarop het land is gebouwd. Beginnend zal er dus gekeken worden naar hoeveel immigranten er zijn gekomen naar de V.S."
   ]
  },
  {
   "cell_type": "code",
   "execution_count": 2,
   "id": "bade9165",
   "metadata": {},
   "outputs": [
    {
     "ename": "NameError",
     "evalue": "name 'dataset1' is not defined",
     "output_type": "error",
     "traceback": [
      "\u001b[0;31m---------------------------------------------------------------------------\u001b[0m",
      "\u001b[0;31mNameError\u001b[0m                                 Traceback (most recent call last)",
      "Cell \u001b[0;32mIn [2], line 2\u001b[0m\n\u001b[1;32m      1\u001b[0m plt\u001b[38;5;241m.\u001b[39mfigure(figsize\u001b[38;5;241m=\u001b[39m(\u001b[38;5;241m10\u001b[39m, \u001b[38;5;241m6\u001b[39m))\n\u001b[0;32m----> 2\u001b[0m sns\u001b[38;5;241m.\u001b[39mlineplot(x\u001b[38;5;241m=\u001b[39m\u001b[38;5;124m'\u001b[39m\u001b[38;5;124mï»¿Year\u001b[39m\u001b[38;5;124m'\u001b[39m, y\u001b[38;5;241m=\u001b[39m\u001b[38;5;124m'\u001b[39m\u001b[38;5;124mImmigrants Obtaining Lawful Permanent Resident Status\u001b[39m\u001b[38;5;124m'\u001b[39m, data\u001b[38;5;241m=\u001b[39mdataset1)\n\u001b[1;32m      3\u001b[0m plt\u001b[38;5;241m.\u001b[39mtitle(\u001b[38;5;124m'\u001b[39m\u001b[38;5;124mTrend of Immigrants Obtaining Lawful Permanent Resident Status\u001b[39m\u001b[38;5;124m'\u001b[39m)\n\u001b[1;32m      4\u001b[0m plt\u001b[38;5;241m.\u001b[39mxlabel(\u001b[38;5;124m'\u001b[39m\u001b[38;5;124mYear\u001b[39m\u001b[38;5;124m'\u001b[39m)\n",
      "\u001b[0;31mNameError\u001b[0m: name 'dataset1' is not defined"
     ]
    },
    {
     "data": {
      "text/plain": [
       "<Figure size 1000x600 with 0 Axes>"
      ]
     },
     "metadata": {},
     "output_type": "display_data"
    }
   ],
   "source": [
    "plt.figure(figsize=(10, 6))\n",
    "sns.lineplot(x='ï»¿Year', y='Immigrants Obtaining Lawful Permanent Resident Status', data=dataset1)\n",
    "plt.title('Trend of Immigrants Obtaining Lawful Permanent Resident Status')\n",
    "plt.xlabel('Year')\n",
    "plt.ylabel('Number of Immigrants')\n",
    "plt.show()"
   ]
  },
  {
   "cell_type": "markdown",
   "id": "53bfae35",
   "metadata": {},
   "source": [
    "Deze lijngrafiek laat zien hoeveel 'Immigrants Obtaining Lawful Permanent Resident Status' tussen 1980 en 2020 in de Verenigde Staten waren. Op de x-as staan de jaren, en op de y-as het aantal immigranten in miljoenen. De grafiek toont grote schommelingen in de aantallen, met een opvallende piek rond 1990 toen het aantal ongeveer 1,8 miljoen bereikte. Dit kan komen door veranderingen in het beleid of andere belangrijke factoren. Na 1990 zijn er periodes van stijging en daling, wat laat zien dat immigratiecijfers sterk kunnen variëren."
   ]
  },
  {
   "cell_type": "markdown",
   "id": "3dddf8dc",
   "metadata": {},
   "source": [
    "### Totaal aantal \"Immigrants\" en \"Refugee Arrivals\" per jaar"
   ]
  },
  {
   "cell_type": "code",
   "execution_count": 15,
   "id": "446617e1",
   "metadata": {
    "tags": [
     "hide-input"
    ]
   },
   "outputs": [
    {
     "data": {
      "image/png": "[encoded data removed]",
      "text/plain": [
       "<Figure size 1400x800 with 1 Axes>"
      ]
     },
     "metadata": {},
     "output_type": "display_data"
    }
   ],
   "source": [
    "dataset1.columns = dataset1.columns.str.strip()\n",
    "\n",
    "columns_to_convert = [\n",
    "    'Immigrants Obtaining Lawful Permanent Resident Status', \n",
    "    'Refugee Arrivals', \n",
    "    'Noncitizen Apprehensions', \n",
    "    'Noncitizen Removals', \n",
    "    'Noncitizen Returns'\n",
    "]\n",
    "\n",
    "for column in columns_to_convert:\n",
    "    dataset1[column] = dataset1[column].apply(lambda x: int(str(x).replace(',', '')) if pd.notnull(x) else x)\n",
    "\n",
    "merged_data = pd.merge(dataset1, dataset2, left_on='ï»¿Year', right_on='Year')\n",
    "\n",
    "grouped_data = merged_data[['ï»¿Year', 'Immigrants Obtaining Lawful Permanent Resident Status', 'Refugee Arrivals']]\n",
    "grouped_data = grouped_data.melt(id_vars=['ï»¿Year'], value_vars=['Immigrants Obtaining Lawful Permanent Resident Status', 'Refugee Arrivals'], \n",
    "                                 var_name='Category', value_name='Number of People')\n",
    "\n",
    "plt.figure(figsize=(14, 8))\n",
    "sns.barplot(x='ï»¿Year', y='Number of People', hue='Category', data=grouped_data)\n",
    "plt.title('Totaal aantal \"Immigrants\" en \"Refugee Arrivals\" per jaar')\n",
    "plt.xlabel('Year')\n",
    "plt.ylabel('Number of People')\n",
    "plt.xticks(rotation=90)\n",
    "plt.legend(title='Category')\n",
    "plt.show()"
   ]
  },
  {
   "cell_type": "markdown",
   "id": "d964f02d",
   "metadata": {},
   "source": [
    "Deze grafiek toont een vergelijking tussen 'Immigrants Obtaining Lawful Permanent Resident Status' en 'Refugee Arrivals', beide weergegeven per jaar op de x-as. Op de y-as wordt het aantal mensen getoond. De gegevens laten zien dat het aantal 'Refugee Arrivals' relatief klein is in vergelijking met het totale aantal 'Immigrants Obtaining Lawful Permanent Resident Status'. Dit geeft een beter beeld van de verhouding tussen deze twee categorieën binnen de totale immigratie. "
   ]
  },
  {
   "cell_type": "markdown",
   "id": "eb1f5e52",
   "metadata": {},
   "source": [
    "### Normalized Immigrants Obtaining Lawful Permanent Resident Status and Minimum Wage Over Time"
   ]
  },
  {
   "cell_type": "markdown",
   "id": "ac28ad4e",
   "metadata": {},
   "source": [
    "Immigratie en het minimumloon zijn twee belangrijke economische indicatoren die de Amerikaanse arbeidsmarkt sterk beïnvloeden. Om hun dynamiek en onderlinge invloed beter te begrijpen, presenteren we de onderstaande grafiek. De grafiek toont de genormaliseerde trends van immigratie en het minimumloon van 1980 tot 2020. Door de waarden te normaliseren, kunnen we de trends van beide variabelen over tijd vergelijken, ondanks hun verschillende schalen. Daarmee kunnen we de verhoudingen en veranderingen tussen deze twee belangrijke economische indicatoren duidelijker visualiseren. De gegevens geven inzicht in hoe deze variabelen in de loop der tijd zijn veranderd en mogelijk met elkaar wisselwerken."
   ]
  },
  {
   "cell_type": "code",
   "execution_count": 16,
   "id": "04bd3149",
   "metadata": {
    "tags": [
     "hide-input"
    ]
   },
   "outputs": [
    {
     "data": {
      "image/png": "[encoded data removed]",
      "text/plain": [
       "<Figure size 1400x800 with 1 Axes>"
      ]
     },
     "metadata": {},
     "output_type": "display_data"
    }
   ],
   "source": [
    "for column in columns_to_convert:\n",
    "    dataset1[column] = dataset1[column].apply(lambda x: int(str(x).replace(',', '')) if pd.notnull(x) else x)\n",
    "\n",
    "merged_data = pd.merge(dataset1, dataset2, left_on='ï»¿Year', right_on='Year')\n",
    "\n",
    "merged_data['Normalized Immigrants'] = merged_data['Immigrants Obtaining Lawful Permanent Resident Status'] / merged_data['Immigrants Obtaining Lawful Permanent Resident Status'].max()\n",
    "merged_data['Normalized Minimum Wage'] = merged_data['State.Minimum.Wage.2020.Dollars'] / merged_data['State.Minimum.Wage.2020.Dollars'].max()\n",
    "\n",
    "bar_data = merged_data[['ï»¿Year', 'Normalized Immigrants', 'Normalized Minimum Wage']]\n",
    "bar_data = bar_data.melt(id_vars=['ï»¿Year'], value_vars=['Normalized Immigrants', 'Normalized Minimum Wage'], \n",
    "                         var_name='Category', value_name='Normalized Value')\n",
    "\n",
    "plt.figure(figsize=(14, 8))\n",
    "sns.barplot(x='ï»¿Year', y='Normalized Value', hue='Category', data=bar_data)\n",
    "plt.title('Normalized Immigrants Obtaining Lawful Permanent Resident Status and Minimum Wage Over Time')\n",
    "plt.xlabel('Year')\n",
    "plt.ylabel('Normalized Value')\n",
    "plt.xticks(rotation=90)\n",
    "plt.legend(title='Category')\n",
    "plt.show()"
   ]
  },
  {
   "cell_type": "markdown",
   "id": "b35b9778",
   "metadata": {},
   "source": [
    "De grafiek toont de genormaliseerde waarden van 'Normalized Immigrants' en 'Normalized Minimum Wage' over de jaren, weergegeven op de y-as, met de jaren op de x-as. De blauwe balken vertegenwoordigen 'Normalized Immigrants' en de oranje balken vertegenwoordigen 'Normalized Minimum Wage'. We zien dat, hoewel er verschillen zijn in specifieke jaren, beide variabelen over het algemeen een stijgende trend vertonen. Dit suggereert dat zowel immigratie als minimumloon mogelijk beïnvloed worden door vergelijkbare economische omstandigheden en beleidsveranderingen."
   ]
  },
  {
   "cell_type": "markdown",
   "id": "133d5b98",
   "metadata": {},
   "source": [
    "### Minimum wage violin plot"
   ]
  },
  {
   "cell_type": "markdown",
   "id": "a3e33a99",
   "metadata": {},
   "source": [
    "Het minimumloon is een belangrijke indicator van economische omstandigheden en werknemersrechten in een land. De onderstaande grafiek geeft een overzicht van de spreiding van het minimumloon in de Verenigde Staten voor alle staten van 1968 tot 2020, weergegeven in 2020-dollars. Dit zal uitgevoerd worden om te schetsen wat de tegenstanders van immigratie indiceren dat het minimumloon van Amerikanen over de jaren beinvloed is door immigranten. Deze visualisatie helpt om trends en variaties in het minimumloon door de jaren heen te begrijpen. "
   ]
  },
  {
   "cell_type": "code",
   "execution_count": 17,
   "id": "aa440dc4",
   "metadata": {
    "tags": [
     "hide-input"
    ]
   },
   "outputs": [
    {
     "data": {
      "application/vnd.plotly.v1+json": {
       "config": {
        "plotlyServerURL": "https://plot.ly"
       },
       "data": [
        {
         "box": {
          "visible": false
         },
         "meanline": {
          "visible": true
         },
         "name": "1968",
         "type": "violin",
         "y": [
          8.55,
          15.61,
          8.55,
          8.55,
          12.26,
          8.55,
          10.41,
          9.29,
          9.29,
          8.55,
          8.55,
          9.29,
          9.29,
          8.55,
          8.55,
          8.55,
          8.55,
          8.55,
          8.55,
          8.55,
          10.41,
          8.55,
          11.89,
          9.29,
          8.55,
          8.55,
          8.55,
          8.55,
          8.55,
          9.29,
          10.41,
          10.41,
          8.55,
          11.89,
          8.55,
          8.55,
          8.55,
          8.55,
          9.29,
          8.55,
          8.55,
          10.41,
          8.55,
          8.55,
          8.55,
          8.55,
          8.55,
          8.55,
          10.41,
          8.55,
          11.89,
          8.55,
          9.29,
          8.92
         ]
        }
       ],
       "frames": [
        {
         "data": [
          {
           "box": {
            "visible": false
           },
           "meanline": {
            "visible": true
           },
           "type": "violin",
           "y": [
            8.55,
            15.61,
            8.55,
            8.55,
            12.26,
            8.55,
            10.41,
            9.29,
            9.29,
            8.55,
            8.55,
            9.29,
            9.29,
            8.55,
            8.55,
            8.55,
            8.55,
            8.55,
            8.55,
            8.55,
            10.41,
            8.55,
            11.89,
            9.29,
            8.55,
            8.55,
            8.55,
            8.55,
            8.55,
            9.29,
            10.41,
            10.41,
            8.55,
            11.89,
            8.55,
            8.55,
            8.55,
            8.55,
            9.29,
            8.55,
            8.55,
            10.41,
            8.55,
            8.55,
            8.55,
            8.55,
            8.55,
            8.55,
            10.41,
            8.55,
            11.89,
            8.55,
            9.29,
            8.92
           ]
          }
         ],
         "name": "1968"
        },
        {
         "data": [
          {
           "box": {
            "visible": false
           },
           "meanline": {
            "visible": true
           },
           "type": "violin",
           "y": [
            8.11,
            14.8,
            8.11,
            8.11,
            11.63,
            8.11,
            9.87,
            8.81,
            8.81,
            8.11,
            8.11,
            8.81,
            8.81,
            8.11,
            8.11,
            8.11,
            8.11,
            8.11,
            8.11,
            8.11,
            9.87,
            8.11,
            11.28,
            8.81,
            8.11,
            8.11,
            8.11,
            8.11,
            8.11,
            8.81,
            9.87,
            9.87,
            8.11,
            11.28,
            8.11,
            8.11,
            8.11,
            8.11,
            8.81,
            8.11,
            8.11,
            9.87,
            8.11,
            8.11,
            8.11,
            8.11,
            8.11,
            8.11,
            9.87,
            8.11,
            11.28,
            8.11,
            8.81,
            8.46
           ]
          }
         ],
         "name": "1969"
        },
        {
         "data": [
          {
           "box": {
            "visible": false
           },
           "meanline": {
            "visible": true
           },
           "type": "violin",
           "y": [
            8.67,
            14,
            8.67,
            8.67,
            11,
            8.67,
            10.67,
            8.67,
            10.67,
            8.67,
            8.67,
            10.67,
            10.67,
            8.67,
            8.67,
            8.67,
            8.67,
            8.67,
            8.67,
            8.67,
            10.67,
            8.67,
            10.67,
            8.67,
            8.67,
            8.67,
            8.67,
            8.67,
            8.67,
            8.67,
            9.67,
            10,
            8.67,
            10.67,
            8.67,
            8.67,
            8.67,
            8.67,
            8.67,
            8.67,
            8.67,
            10.67,
            8.67,
            8.67,
            8.67,
            8.67,
            8.67,
            8.67,
            10.67,
            8.67,
            10.67,
            8.67,
            8.67,
            8.67
           ]
          }
         ],
         "name": "1970"
        },
        {
         "data": [
          {
           "box": {
            "visible": false
           },
           "meanline": {
            "visible": true
           },
           "type": "violin",
           "y": [
            8.3,
            13.41,
            8.3,
            8.3,
            10.54,
            8.3,
            10.22,
            8.3,
            10.22,
            8.3,
            8.3,
            10.22,
            10.22,
            8.3,
            8.3,
            8.3,
            8.3,
            8.3,
            8.3,
            8.3,
            10.22,
            8.3,
            10.22,
            8.3,
            8.3,
            8.3,
            8.3,
            8.3,
            8.3,
            8.3,
            9.26,
            9.58,
            8.3,
            10.22,
            8.3,
            8.3,
            8.3,
            8.3,
            8.3,
            8.3,
            8.3,
            10.22,
            8.3,
            8.3,
            8.3,
            8.3,
            8.3,
            8.3,
            10.22,
            8.3,
            10.22,
            8.3,
            8.3,
            8.3
           ]
          }
         ],
         "name": "1971"
        },
        {
         "data": [
          {
           "box": {
            "visible": false
           },
           "meanline": {
            "visible": true
           },
           "type": "violin",
           "y": [
            9.9,
            12.99,
            9.9,
            9.9,
            10.21,
            9.9,
            11.45,
            9.9,
            9.9,
            9.9,
            9.9,
            11.76,
            9.9,
            9.9,
            9.9,
            9.9,
            9.9,
            9.9,
            9.9,
            9.9,
            9.9,
            9.9,
            10.83,
            9.9,
            9.9,
            9.9,
            9.9,
            9.9,
            9.9,
            9.9,
            9.9,
            9.9,
            9.9,
            11.45,
            9.9,
            9.9,
            9.9,
            9.9,
            9.9,
            9.9,
            9.9,
            9.9,
            9.9,
            9.9,
            9.9,
            9.9,
            9.9,
            9.9,
            9.9,
            9.9,
            9.9,
            9.9,
            9.9,
            9.9
           ]
          }
         ],
         "name": "1972"
        },
        {
         "data": [
          {
           "box": {
            "visible": false
           },
           "meanline": {
            "visible": true
           },
           "type": "violin",
           "y": [
            9.32,
            12.23,
            9.32,
            9.32,
            9.61,
            9.32,
            10.78,
            9.32,
            9.32,
            9.32,
            9.32,
            11.07,
            9.32,
            9.32,
            9.32,
            9.32,
            9.32,
            9.32,
            9.32,
            9.32,
            9.32,
            9.32,
            10.19,
            9.32,
            9.32,
            9.32,
            9.32,
            9.32,
            9.32,
            9.32,
            9.32,
            9.32,
            9.32,
            10.78,
            9.32,
            9.32,
            9.32,
            9.32,
            9.32,
            9.32,
            9.32,
            9.32,
            9.32,
            9.32,
            9.32,
            9.32,
            9.32,
            9.32,
            9.32,
            9.32,
            9.32,
            9.32,
            9.32,
            9.32
           ]
          }
         ],
         "name": "1973"
        },
        {
         "data": [
          {
           "box": {
            "visible": false
           },
           "meanline": {
            "visible": true
           },
           "type": "violin",
           "y": [
            8.39,
            11.02,
            8.39,
            8.39,
            8.66,
            8.39,
            9.71,
            8.39,
            8.39,
            8.39,
            8.39,
            9.97,
            8.39,
            8.39,
            8.39,
            8.39,
            8.39,
            8.39,
            8.39,
            8.39,
            8.39,
            8.39,
            9.18,
            8.39,
            8.39,
            8.39,
            8.39,
            8.39,
            8.39,
            8.39,
            8.39,
            8.39,
            8.39,
            9.71,
            8.39,
            8.39,
            8.39,
            8.39,
            8.39,
            8.39,
            8.39,
            8.39,
            8.39,
            8.39,
            8.39,
            8.39,
            8.39,
            8.39,
            8.39,
            8.39,
            8.39,
            8.39,
            8.39,
            8.39
           ]
          }
         ],
         "name": "1974"
        },
        {
         "data": [
          {
           "box": {
            "visible": false
           },
           "meanline": {
            "visible": true
           },
           "type": "violin",
           "y": [
            7.69,
            10.1,
            7.69,
            7.69,
            7.93,
            7.69,
            8.89,
            7.69,
            7.69,
            7.69,
            7.69,
            9.13,
            7.69,
            7.69,
            7.69,
            7.69,
            7.69,
            7.69,
            7.69,
            7.69,
            7.69,
            7.69,
            8.41,
            7.69,
            7.69,
            7.69,
            7.69,
            7.69,
            7.69,
            7.69,
            7.69,
            7.69,
            7.69,
            8.89,
            7.69,
            7.69,
            7.69,
            7.69,
            7.69,
            7.69,
            7.69,
            7.69,
            7.69,
            7.69,
            7.69,
            7.69,
            7.69,
            7.69,
            7.69,
            7.69,
            7.69,
            7.69,
            7.69,
            7.69
           ]
          }
         ],
         "name": "1975"
        },
        {
         "data": [
          {
           "box": {
            "visible": false
           },
           "meanline": {
            "visible": true
           },
           "type": "violin",
           "y": [
            10,
            12.73,
            10,
            10,
            10,
            10,
            10.05,
            10,
            10.23,
            10,
            10,
            10.46,
            10.91,
            10,
            10,
            10,
            10,
            10,
            10,
            10,
            10.46,
            10,
            10,
            10,
            10,
            10,
            10,
            10,
            10,
            10,
            10,
            10,
            10,
            10.46,
            10,
            10,
            10,
            10,
            10.46,
            10,
            10,
            10.46,
            10,
            10,
            10,
            10,
            10,
            10,
            10.46,
            10,
            10,
            10,
            10,
            10
           ]
          }
         ],
         "name": "1976"
        },
        {
         "data": [
          {
           "box": {
            "visible": false
           },
           "meanline": {
            "visible": true
           },
           "type": "violin",
           "y": [
            9.39,
            11.95,
            9.39,
            9.39,
            9.39,
            9.39,
            9.43,
            9.39,
            9.6,
            9.39,
            9.39,
            9.82,
            10.24,
            9.39,
            9.39,
            9.39,
            9.39,
            9.39,
            9.39,
            9.39,
            9.82,
            9.39,
            9.39,
            9.39,
            9.39,
            9.39,
            9.39,
            9.39,
            9.39,
            9.39,
            9.39,
            9.39,
            9.39,
            9.82,
            9.39,
            9.39,
            9.39,
            9.39,
            9.82,
            9.39,
            9.39,
            9.82,
            9.39,
            9.39,
            9.39,
            9.39,
            9.39,
            9.39,
            9.82,
            9.39,
            9.39,
            9.39,
            9.39,
            9.39
           ]
          }
         ],
         "name": "1977"
        },
        {
         "data": [
          {
           "box": {
            "visible": false
           },
           "meanline": {
            "visible": true
           },
           "type": "violin",
           "y": [
            8.73,
            11.11,
            8.73,
            8.73,
            8.73,
            8.73,
            8.77,
            8.73,
            8.93,
            8.73,
            8.73,
            9.12,
            9.52,
            8.73,
            8.73,
            8.73,
            8.73,
            8.73,
            8.73,
            8.73,
            9.12,
            8.73,
            8.73,
            8.73,
            8.73,
            8.73,
            8.73,
            8.73,
            8.73,
            8.73,
            8.73,
            8.73,
            8.73,
            9.12,
            8.73,
            8.73,
            8.73,
            8.73,
            9.12,
            8.73,
            8.73,
            9.12,
            8.73,
            8.73,
            8.73,
            8.73,
            8.73,
            8.73,
            9.12,
            8.73,
            8.73,
            8.73,
            8.73,
            8.73
           ]
          }
         ],
         "name": "1978"
        },
        {
         "data": [
          {
           "box": {
            "visible": false
           },
           "meanline": {
            "visible": true
           },
           "type": "violin",
           "y": [
            10.33,
            12.11,
            10.33,
            10.33,
            10.33,
            10.33,
            10.37,
            10.33,
            10.33,
            10.33,
            10.33,
            10.33,
            10.33,
            10.33,
            10.33,
            10.33,
            10.33,
            10.33,
            10.33,
            10.33,
            10.33,
            10.33,
            10.33,
            10.33,
            10.33,
            10.33,
            10.33,
            10.33,
            10.33,
            10.33,
            10.33,
            10.33,
            10.33,
            10.33,
            10.33,
            10.33,
            10.33,
            10.33,
            10.33,
            10.33,
            10.33,
            10.33,
            10.33,
            10.33,
            10.33,
            10.33,
            10.33,
            10.33,
            10.33,
            10.33,
            10.33,
            10.33,
            10.33,
            10.33
           ]
          }
         ],
         "name": "1979"
        },
        {
         "data": [
          {
           "box": {
            "visible": false
           },
           "meanline": {
            "visible": true
           },
           "type": "violin",
           "y": [
            9.73,
            11.3,
            9.73,
            9.73,
            9.73,
            9.73,
            9.79,
            9.73,
            9.73,
            9.73,
            9.73,
            9.73,
            9.73,
            9.73,
            9.73,
            9.73,
            9.73,
            9.73,
            9.73,
            9.73,
            9.73,
            9.73,
            9.73,
            9.73,
            9.73,
            9.73,
            9.73,
            9.73,
            9.73,
            9.73,
            9.73,
            9.73,
            9.73,
            9.73,
            9.73,
            9.73,
            9.73,
            9.73,
            9.73,
            9.73,
            9.73,
            9.73,
            9.73,
            9.73,
            9.73,
            9.73,
            9.73,
            9.73,
            9.73,
            9.73,
            9.73,
            9.73,
            9.73,
            9.73
           ]
          }
         ],
         "name": "1980"
        },
        {
         "data": [
          {
           "box": {
            "visible": false
           },
           "meanline": {
            "visible": true
           },
           "type": "violin",
           "y": [
            9.53,
            10.96,
            9.53,
            9.53,
            9.53,
            9.53,
            9.59,
            9.53,
            9.53,
            9.53,
            9.53,
            9.53,
            9.53,
            9.53,
            9.53,
            9.53,
            9.53,
            9.53,
            9.53,
            9.53,
            9.53,
            9.53,
            9.53,
            9.53,
            9.53,
            9.53,
            9.53,
            9.53,
            9.53,
            9.53,
            9.53,
            9.53,
            9.53,
            9.53,
            9.53,
            9.53,
            9.53,
            9.53,
            9.53,
            9.53,
            9.53,
            9.53,
            9.53,
            9.53,
            9.53,
            9.53,
            9.53,
            9.53,
            9.53,
            9.53,
            9.53,
            9.53,
            9.53,
            9.53
           ]
          }
         ],
         "name": "1981"
        },
        {
         "data": [
          {
           "box": {
            "visible": false
           },
           "meanline": {
            "visible": true
           },
           "type": "violin",
           "y": [
            8.98,
            10.32,
            8.98,
            8.98,
            8.98,
            8.98,
            9.03,
            8.98,
            8.98,
            8.98,
            8.98,
            8.98,
            8.98,
            8.98,
            8.98,
            8.98,
            8.98,
            8.98,
            8.98,
            8.98,
            8.98,
            8.98,
            8.98,
            8.98,
            8.98,
            8.98,
            8.98,
            8.98,
            8.98,
            8.98,
            8.98,
            8.98,
            8.98,
            8.98,
            8.98,
            8.98,
            8.98,
            8.98,
            8.98,
            8.98,
            8.98,
            8.98,
            8.98,
            8.98,
            8.98,
            8.98,
            8.98,
            8.98,
            8.98,
            8.98,
            8.98,
            8.98,
            8.98,
            8.98
           ]
          }
         ],
         "name": "1982"
        },
        {
         "data": [
          {
           "box": {
            "visible": false
           },
           "meanline": {
            "visible": true
           },
           "type": "violin",
           "y": [
            8.7,
            10,
            8.7,
            8.7,
            8.7,
            8.7,
            8.75,
            8.7,
            8.7,
            8.7,
            8.7,
            8.7,
            8.7,
            8.7,
            8.7,
            8.7,
            8.7,
            8.7,
            8.7,
            8.7,
            8.7,
            8.7,
            8.7,
            8.7,
            8.7,
            8.7,
            8.7,
            8.7,
            8.7,
            8.7,
            8.7,
            8.7,
            8.7,
            8.7,
            8.7,
            8.7,
            8.7,
            8.7,
            8.7,
            8.7,
            8.7,
            8.7,
            8.7,
            8.7,
            8.7,
            8.7,
            8.7,
            8.7,
            8.7,
            8.7,
            8.7,
            8.7,
            8.7,
            8.7
           ]
          }
         ],
         "name": "1983"
        },
        {
         "data": [
          {
           "box": {
            "visible": false
           },
           "meanline": {
            "visible": true
           },
           "type": "violin",
           "y": [
            8.34,
            9.58,
            8.34,
            8.34,
            8.34,
            8.34,
            8.39,
            8.34,
            8.34,
            8.34,
            8.34,
            8.34,
            8.34,
            8.34,
            8.34,
            8.34,
            8.34,
            8.34,
            8.34,
            8.34,
            8.34,
            8.34,
            8.34,
            8.34,
            8.34,
            8.34,
            8.34,
            8.34,
            8.34,
            8.34,
            8.34,
            8.34,
            8.34,
            8.34,
            8.34,
            8.34,
            8.34,
            8.34,
            8.34,
            8.34,
            8.34,
            8.34,
            8.34,
            8.34,
            8.34,
            8.34,
            8.34,
            8.34,
            8.34,
            8.34,
            8.34,
            8.34,
            8.34,
            8.34
           ]
          }
         ],
         "name": "1984"
        },
        {
         "data": [
          {
           "box": {
            "visible": false
           },
           "meanline": {
            "visible": true
           },
           "type": "violin",
           "y": [
            8.05,
            9.26,
            8.05,
            8.05,
            8.05,
            8.05,
            8.1,
            8.05,
            8.05,
            8.05,
            8.05,
            8.05,
            8.05,
            8.05,
            8.05,
            8.05,
            8.05,
            8.05,
            8.05,
            8.05,
            8.05,
            8.05,
            8.05,
            8.05,
            8.05,
            8.05,
            8.05,
            8.05,
            8.05,
            8.05,
            8.05,
            8.05,
            8.05,
            8.05,
            8.05,
            8.05,
            8.05,
            8.05,
            8.05,
            8.05,
            8.05,
            8.05,
            8.05,
            8.05,
            8.05,
            8.05,
            8.05,
            8.05,
            8.05,
            8.05,
            8.05,
            8.05,
            8.05,
            8.05
           ]
          }
         ],
         "name": "1985"
        },
        {
         "data": [
          {
           "box": {
            "visible": false
           },
           "meanline": {
            "visible": true
           },
           "type": "violin",
           "y": [
            7.91,
            9.09,
            7.91,
            7.91,
            7.91,
            7.91,
            7.95,
            7.91,
            7.91,
            7.91,
            7.91,
            7.91,
            7.91,
            7.91,
            7.91,
            7.91,
            7.91,
            7.91,
            7.91,
            7.91,
            7.91,
            7.91,
            7.91,
            7.91,
            7.91,
            7.91,
            7.91,
            7.91,
            7.91,
            7.91,
            7.91,
            7.91,
            7.91,
            7.91,
            7.91,
            7.91,
            7.91,
            7.91,
            7.91,
            7.91,
            7.91,
            7.91,
            7.91,
            7.91,
            7.91,
            7.91,
            7.91,
            7.91,
            7.91,
            7.91,
            7.91,
            7.91,
            7.91,
            7.91
           ]
          }
         ],
         "name": "1986"
        },
        {
         "data": [
          {
           "box": {
            "visible": false
           },
           "meanline": {
            "visible": true
           },
           "type": "violin",
           "y": [
            7.63,
            8.77,
            7.63,
            7.63,
            7.63,
            7.63,
            7.67,
            7.63,
            7.63,
            7.63,
            7.63,
            7.63,
            7.63,
            7.63,
            7.63,
            7.63,
            7.63,
            7.63,
            7.63,
            7.63,
            7.63,
            7.63,
            7.63,
            7.63,
            7.63,
            7.63,
            7.63,
            7.63,
            7.63,
            7.63,
            7.63,
            7.63,
            7.63,
            7.63,
            7.63,
            7.63,
            7.63,
            7.63,
            7.63,
            7.63,
            7.63,
            7.63,
            7.63,
            7.63,
            7.63,
            7.63,
            7.63,
            7.63,
            7.63,
            7.63,
            7.63,
            7.63,
            7.63,
            7.63
           ]
          }
         ],
         "name": "1987"
        },
        {
         "data": [
          {
           "box": {
            "visible": false
           },
           "meanline": {
            "visible": true
           },
           "type": "violin",
           "y": [
            7.32,
            8.42,
            7.32,
            7.32,
            7.32,
            7.32,
            8.2,
            7.32,
            7.65,
            7.32,
            7.32,
            7.32,
            8.42,
            7.32,
            7.32,
            7.32,
            7.32,
            7.32,
            7.32,
            7.32,
            7.98,
            7.32,
            7.98,
            7.32,
            7.76,
            7.32,
            7.32,
            7.32,
            7.32,
            7.32,
            7.76,
            7.32,
            7.32,
            7.32,
            7.32,
            7.32,
            7.32,
            7.32,
            7.32,
            7.32,
            7.32,
            7.98,
            7.32,
            7.32,
            7.32,
            7.32,
            7.32,
            7.32,
            7.76,
            7.32,
            7.32,
            7.32,
            7.32,
            7.32
           ]
          }
         ],
         "name": "1988"
        },
        {
         "data": [
          {
           "box": {
            "visible": false
           },
           "meanline": {
            "visible": true
           },
           "type": "violin",
           "y": [
            6.99,
            8.03,
            6.99,
            6.99,
            6.99,
            6.99,
            7.82,
            6.99,
            7.3,
            6.99,
            6.99,
            6.99,
            8.03,
            6.99,
            6.99,
            6.99,
            6.99,
            6.99,
            6.99,
            6.99,
            7.61,
            6.99,
            7.61,
            6.99,
            7.41,
            6.99,
            6.99,
            6.99,
            6.99,
            6.99,
            7.41,
            6.99,
            6.99,
            6.99,
            6.99,
            6.99,
            6.99,
            6.99,
            6.99,
            6.99,
            6.99,
            7.61,
            6.99,
            6.99,
            6.99,
            6.99,
            6.99,
            6.99,
            7.41,
            6.99,
            6.99,
            6.99,
            6.99,
            6.99
           ]
          }
         ],
         "name": "1989"
        },
        {
         "data": [
          {
           "box": {
            "visible": false
           },
           "meanline": {
            "visible": true
           },
           "type": "violin",
           "y": [
            6.63,
            7.62,
            6.63,
            6.63,
            6.63,
            6.63,
            7.42,
            6.63,
            6.93,
            6.63,
            6.63,
            6.63,
            7.62,
            6.63,
            6.63,
            6.63,
            6.63,
            6.63,
            6.63,
            6.63,
            7.22,
            6.63,
            7.22,
            6.63,
            7.03,
            6.63,
            6.63,
            6.63,
            6.63,
            6.63,
            7.03,
            6.63,
            6.63,
            6.63,
            6.63,
            6.63,
            6.63,
            6.63,
            6.63,
            6.63,
            6.63,
            7.22,
            6.63,
            6.63,
            6.63,
            6.63,
            6.63,
            6.63,
            7.03,
            6.63,
            6.63,
            6.63,
            6.63,
            6.63
           ]
          }
         ],
         "name": "1990"
        },
        {
         "data": [
          {
           "box": {
            "visible": false
           },
           "meanline": {
            "visible": true
           },
           "type": "violin",
           "y": [
            7.22,
            8.17,
            7.22,
            7.22,
            8.07,
            7.22,
            8.07,
            7.22,
            7.22,
            7.22,
            7.22,
            7.22,
            7.31,
            7.22,
            7.22,
            7.22,
            8.07,
            7.22,
            7.22,
            7.22,
            7.31,
            7.22,
            7.22,
            7.22,
            8.07,
            7.22,
            7.22,
            7.22,
            7.22,
            7.22,
            7.31,
            7.22,
            7.22,
            7.22,
            7.22,
            7.22,
            7.22,
            7.22,
            9.02,
            7.22,
            7.22,
            8.07,
            7.22,
            7.22,
            7.22,
            7.22,
            8.83,
            7.22,
            7.31,
            7.22,
            8.07,
            7.22,
            7.22,
            7.22
           ]
          }
         ],
         "name": "1991"
        },
        {
         "data": [
          {
           "box": {
            "visible": false
           },
           "meanline": {
            "visible": true
           },
           "type": "violin",
           "y": [
            7.84,
            8.76,
            7.84,
            7.84,
            7.84,
            7.84,
            7.87,
            7.84,
            7.84,
            7.84,
            7.84,
            7.84,
            7.84,
            7.84,
            7.84,
            7.84,
            8.57,
            7.84,
            7.84,
            7.84,
            7.84,
            7.84,
            7.84,
            7.84,
            7.84,
            7.84,
            7.84,
            7.84,
            7.84,
            7.84,
            7.84,
            7.84,
            7.84,
            7.84,
            7.84,
            7.84,
            7.84,
            7.84,
            8.76,
            7.84,
            7.84,
            8.2,
            7.84,
            7.84,
            7.84,
            7.84,
            8.57,
            7.84,
            7.84,
            7.84,
            7.84,
            7.84,
            7.84,
            7.84
           ]
          }
         ],
         "name": "1992"
        },
        {
         "data": [
          {
           "box": {
            "visible": false
           },
           "meanline": {
            "visible": true
           },
           "type": "violin",
           "y": [
            7.61,
            8.5,
            7.61,
            7.61,
            7.61,
            7.61,
            7.64,
            7.61,
            7.61,
            7.61,
            7.61,
            7.61,
            7.61,
            7.61,
            7.61,
            7.61,
            8.32,
            7.61,
            7.61,
            7.61,
            7.61,
            7.61,
            7.61,
            7.61,
            7.61,
            7.61,
            7.61,
            7.61,
            7.61,
            7.61,
            7.61,
            7.61,
            7.61,
            7.61,
            7.61,
            7.61,
            7.61,
            7.61,
            8.5,
            7.61,
            7.61,
            7.97,
            7.61,
            7.61,
            7.61,
            7.61,
            8.32,
            7.61,
            7.61,
            7.61,
            7.61,
            7.61,
            7.61,
            7.61
           ]
          }
         ],
         "name": "1993"
        },
        {
         "data": [
          {
           "box": {
            "visible": false
           },
           "meanline": {
            "visible": true
           },
           "type": "violin",
           "y": [
            7.42,
            8.29,
            7.42,
            7.42,
            7.42,
            7.42,
            7.45,
            7.42,
            7.42,
            7.42,
            7.42,
            7.42,
            9.16,
            7.42,
            7.42,
            7.42,
            8.12,
            7.42,
            7.42,
            7.42,
            7.42,
            7.42,
            7.42,
            7.42,
            7.42,
            7.42,
            7.42,
            7.42,
            7.42,
            7.42,
            7.42,
            8.81,
            7.42,
            7.42,
            7.42,
            7.42,
            7.42,
            7.42,
            8.29,
            7.42,
            7.42,
            7.77,
            7.42,
            7.42,
            7.42,
            7.42,
            8.12,
            7.42,
            7.42,
            7.42,
            7.42,
            7.42,
            7.42,
            7.42
           ]
          }
         ],
         "name": "1994"
        },
        {
         "data": [
          {
           "box": {
            "visible": false
           },
           "meanline": {
            "visible": true
           },
           "type": "violin",
           "y": [
            7.21,
            8.06,
            7.21,
            7.21,
            7.21,
            7.21,
            7.25,
            7.21,
            7.21,
            7.21,
            7.21,
            7.21,
            8.91,
            7.21,
            7.21,
            7.21,
            7.89,
            7.21,
            7.21,
            7.21,
            7.21,
            7.21,
            7.21,
            7.21,
            7.21,
            7.21,
            7.21,
            7.21,
            7.21,
            7.21,
            7.21,
            8.57,
            7.21,
            7.21,
            7.21,
            7.21,
            7.21,
            7.21,
            8.06,
            7.21,
            7.21,
            7.55,
            7.21,
            7.21,
            7.21,
            7.21,
            7.89,
            7.21,
            7.21,
            7.21,
            7.21,
            7.21,
            7.21,
            7.21
           ]
          }
         ],
         "name": "1995"
        },
        {
         "data": [
          {
           "box": {
            "visible": false
           },
           "meanline": {
            "visible": true
           },
           "type": "violin",
           "y": [
            7.01,
            7.83,
            7.01,
            7.01,
            7.01,
            7.01,
            7.04,
            7.67,
            8.65,
            7.01,
            7.01,
            7.01,
            8.65,
            7.01,
            7.01,
            7.01,
            7.67,
            7.01,
            7.01,
            7.01,
            7.01,
            7.01,
            7.83,
            7.01,
            7.01,
            7.01,
            7.01,
            7.01,
            7.01,
            7.01,
            7.01,
            8.33,
            7.01,
            7.01,
            7.01,
            7.01,
            7.01,
            7.01,
            7.83,
            7.01,
            7.01,
            7.34,
            7.01,
            7.01,
            7.01,
            7.01,
            7.67,
            7.01,
            7.83,
            7.01,
            8.08,
            7.01,
            7.01,
            7.01
           ]
          }
         ],
         "name": "1996"
        },
        {
         "data": [
          {
           "box": {
            "visible": false
           },
           "meanline": {
            "visible": true
           },
           "type": "violin",
           "y": [
            7.66,
            8.46,
            7.66,
            7.66,
            7.66,
            7.66,
            7.69,
            8.06,
            9.27,
            7.66,
            7.66,
            7.66,
            8.46,
            7.66,
            7.66,
            7.66,
            7.66,
            7.66,
            7.66,
            7.66,
            7.66,
            7.66,
            8.46,
            7.66,
            7.66,
            7.66,
            7.66,
            7.66,
            7.66,
            7.66,
            7.66,
            8.14,
            7.66,
            7.66,
            7.66,
            7.66,
            7.66,
            7.66,
            8.86,
            7.66,
            7.66,
            8.3,
            7.66,
            7.66,
            7.66,
            7.66,
            7.66,
            7.66,
            8.06,
            7.66,
            7.9,
            7.66,
            7.66,
            7.66
           ]
          }
         ],
         "name": "1997"
        },
        {
         "data": [
          {
           "box": {
            "visible": false
           },
           "meanline": {
            "visible": true
           },
           "type": "violin",
           "y": [
            8.17,
            8.97,
            8.17,
            8.17,
            8.17,
            8.17,
            8.22,
            8.17,
            9.76,
            8.17,
            8.17,
            8.17,
            8.33,
            8.17,
            8.17,
            8.17,
            8.17,
            8.17,
            8.17,
            8.17,
            8.17,
            8.17,
            8.33,
            8.17,
            8.17,
            8.17,
            8.17,
            8.17,
            8.17,
            8.17,
            8.17,
            8.17,
            8.17,
            8.17,
            8.17,
            8.17,
            8.17,
            8.17,
            9.52,
            8.17,
            8.17,
            8.17,
            8.17,
            8.17,
            8.17,
            8.17,
            8.17,
            8.17,
            8.33,
            8.17,
            8.17,
            8.17,
            8.17,
            8.17
           ]
          }
         ],
         "name": "1998"
        },
        {
         "data": [
          {
           "box": {
            "visible": false
           },
           "meanline": {
            "visible": true
           },
           "type": "violin",
           "y": [
            8,
            8.77,
            8,
            8,
            8,
            8,
            8.04,
            8,
            9.55,
            8,
            8,
            8,
            8.15,
            8,
            8,
            8,
            8,
            8,
            8,
            8,
            8,
            8,
            8.15,
            8,
            8,
            8,
            8,
            8,
            8,
            8,
            8,
            8,
            8,
            8,
            8,
            8,
            8,
            8,
            9.32,
            8,
            8,
            8,
            8,
            8,
            8,
            8,
            8,
            8,
            8.15,
            8,
            8,
            8,
            8,
            8
           ]
          }
         ],
         "name": "1999"
        },
        {
         "data": [
          {
           "box": {
            "visible": false
           },
           "meanline": {
            "visible": true
           },
           "type": "violin",
           "y": [
            7.74,
            8.49,
            7.74,
            7.74,
            8.64,
            7.74,
            9.24,
            8.49,
            9.24,
            7.74,
            7.74,
            7.74,
            7.89,
            7.74,
            7.74,
            7.74,
            7.74,
            7.74,
            7.74,
            7.74,
            7.74,
            7.74,
            9.01,
            7.74,
            7.74,
            7.74,
            7.74,
            7.74,
            7.74,
            7.74,
            7.74,
            7.74,
            7.74,
            7.74,
            7.74,
            7.74,
            7.74,
            7.74,
            9.76,
            7.74,
            7.74,
            8.49,
            7.74,
            7.74,
            7.74,
            7.74,
            7.74,
            7.74,
            8.64,
            7.74,
            9.76,
            7.74,
            7.74,
            7.74
           ]
          }
         ],
         "name": "2000"
        },
        {
         "data": [
          {
           "box": {
            "visible": false
           },
           "meanline": {
            "visible": true
           },
           "type": "violin",
           "y": [
            7.52,
            8.25,
            7.52,
            7.52,
            9.13,
            7.52,
            9.35,
            8.98,
            8.98,
            7.52,
            7.52,
            7.52,
            7.67,
            7.52,
            7.52,
            7.52,
            7.52,
            7.52,
            7.52,
            7.52,
            7.52,
            7.52,
            9.86,
            7.52,
            7.52,
            7.52,
            7.52,
            7.52,
            7.52,
            7.52,
            7.52,
            7.52,
            7.52,
            7.52,
            7.52,
            7.52,
            7.52,
            7.52,
            9.49,
            7.52,
            7.52,
            8.98,
            7.52,
            7.52,
            7.52,
            7.52,
            7.52,
            7.52,
            9.13,
            7.52,
            9.81,
            7.52,
            7.52,
            7.52
           ]
          }
         ],
         "name": "2001"
        },
        {
         "data": [
          {
           "box": {
            "visible": false
           },
           "meanline": {
            "visible": true
           },
           "type": "violin",
           "y": [
            7.4,
            8.12,
            7.4,
            7.4,
            9.71,
            7.4,
            9.63,
            8.84,
            8.84,
            7.4,
            7.4,
            7.4,
            8.27,
            7.4,
            7.4,
            7.4,
            7.4,
            7.4,
            7.4,
            7.4,
            8.27,
            7.4,
            9.71,
            7.4,
            7.4,
            7.4,
            7.4,
            7.4,
            7.4,
            7.4,
            7.4,
            7.4,
            7.4,
            7.4,
            7.4,
            7.4,
            7.4,
            7.4,
            9.35,
            7.4,
            7.4,
            8.84,
            7.4,
            7.4,
            7.4,
            7.4,
            7.4,
            7.4,
            8.99,
            7.4,
            9.92,
            7.4,
            7.4,
            7.4
           ]
          }
         ],
         "name": "2002"
        },
        {
         "data": [
          {
           "box": {
            "visible": false
           },
           "meanline": {
            "visible": true
           },
           "type": "violin",
           "y": [
            7.24,
            10.05,
            7.24,
            7.24,
            9.49,
            7.24,
            9.7,
            8.65,
            8.65,
            7.24,
            7.24,
            7.24,
            8.79,
            7.24,
            7.24,
            7.24,
            7.24,
            7.24,
            7.24,
            7.24,
            8.79,
            7.24,
            9.49,
            7.24,
            7.24,
            7.24,
            7.24,
            7.24,
            7.24,
            7.24,
            7.24,
            7.24,
            7.24,
            7.24,
            7.24,
            7.24,
            7.24,
            7.24,
            9.7,
            7.24,
            7.24,
            8.65,
            7.24,
            7.24,
            7.24,
            7.24,
            7.24,
            7.24,
            8.79,
            7.24,
            9.85,
            7.24,
            7.24,
            7.24
           ]
          }
         ],
         "name": "2003"
        },
        {
         "data": [
          {
           "box": {
            "visible": false
           },
           "meanline": {
            "visible": true
           },
           "type": "violin",
           "y": [
            7.05,
            9.79,
            7.05,
            7.05,
            9.24,
            7.05,
            9.72,
            8.42,
            8.42,
            7.05,
            7.05,
            7.05,
            8.56,
            7.05,
            7.53,
            7.05,
            7.05,
            7.05,
            7.05,
            7.05,
            8.56,
            7.05,
            9.24,
            7.05,
            7.05,
            7.05,
            7.05,
            7.05,
            7.05,
            7.05,
            7.05,
            7.05,
            7.05,
            7.05,
            7.05,
            7.05,
            7.05,
            7.05,
            9.65,
            7.05,
            7.05,
            9.24,
            7.05,
            7.05,
            7.05,
            7.05,
            7.05,
            7.05,
            9.24,
            7.05,
            9.8,
            7.05,
            7.05,
            7.05
           ]
          }
         ],
         "name": "2004"
        },
        {
         "data": [
          {
           "box": {
            "visible": false
           },
           "meanline": {
            "visible": true
           },
           "type": "violin",
           "y": [
            6.82,
            9.47,
            6.82,
            6.82,
            8.94,
            6.82,
            9.4,
            8.15,
            8.74,
            6.82,
            6.82,
            6.82,
            8.28,
            6.82,
            8.61,
            6.82,
            6.82,
            6.82,
            6.82,
            6.82,
            8.41,
            6.82,
            8.94,
            6.82,
            6.82,
            6.82,
            6.82,
            6.82,
            6.82,
            6.82,
            6.82,
            6.82,
            6.82,
            7.95,
            6.82,
            6.82,
            6.82,
            6.82,
            9.6,
            6.82,
            6.82,
            8.94,
            6.82,
            6.82,
            6.82,
            6.82,
            6.82,
            6.82,
            9.27,
            6.82,
            9.73,
            6.82,
            6.82,
            6.82
           ]
          }
         ],
         "name": "2005"
        },
        {
         "data": [
          {
           "box": {
            "visible": false
           },
           "meanline": {
            "visible": true
           },
           "type": "violin",
           "y": [
            6.61,
            9.17,
            6.61,
            6.61,
            8.66,
            6.61,
            9.49,
            7.89,
            8.98,
            8.21,
            6.61,
            6.61,
            8.66,
            6.61,
            8.34,
            6.61,
            6.61,
            6.61,
            6.61,
            6.61,
            8.34,
            6.61,
            8.66,
            6.61,
            6.74,
            6.61,
            6.61,
            6.61,
            6.61,
            6.61,
            6.61,
            7.89,
            6.61,
            8.66,
            6.61,
            6.61,
            6.61,
            6.61,
            9.62,
            6.61,
            6.61,
            8.66,
            6.61,
            6.61,
            6.61,
            6.61,
            6.61,
            6.61,
            9.3,
            6.61,
            9.79,
            6.61,
            7.31,
            6.61
           ]
          }
         ],
         "name": "2006"
        },
        {
         "data": [
          {
           "box": {
            "visible": false
           },
           "meanline": {
            "visible": true
           },
           "type": "violin",
           "y": [
            6.42,
            8.92,
            8.42,
            7.8,
            9.36,
            8.55,
            9.54,
            8.3,
            8.73,
            8.32,
            6.42,
            6.42,
            9.04,
            6.42,
            9.36,
            6.42,
            6.42,
            6.42,
            6.42,
            6.42,
            8.42,
            7.67,
            9.36,
            8.67,
            6.55,
            6.42,
            8.11,
            6.42,
            6.42,
            7.67,
            6.42,
            8.92,
            6.42,
            8.92,
            7.67,
            6.42,
            8.55,
            6.42,
            9.73,
            7.8,
            6.42,
            9.23,
            6.42,
            6.42,
            6.42,
            6.42,
            6.42,
            6.42,
            9.39,
            6.42,
            9.89,
            7.3,
            8.11,
            6.42
           ]
          }
         ],
         "name": "2007"
        },
        {
         "data": [
          {
           "box": {
            "visible": false
           },
           "meanline": {
            "visible": true
           },
           "type": "violin",
           "y": [
            7.03,
            8.59,
            8.29,
            7.51,
            9.61,
            8.43,
            9.19,
            8.59,
            8.41,
            8.16,
            7.03,
            7.03,
            8.71,
            7.03,
            9.31,
            7.03,
            8.71,
            7.03,
            7.03,
            7.03,
            8.41,
            7.39,
            9.61,
            8.59,
            7.03,
            7.03,
            7.99,
            7.03,
            7.03,
            7.6,
            7.81,
            8.59,
            7.81,
            8.59,
            7.39,
            7.03,
            8.41,
            7.03,
            9.55,
            8.59,
            7.03,
            8.89,
            7.03,
            7.03,
            7.03,
            7.03,
            7.03,
            7.03,
            9.23,
            7.03,
            9.7,
            7.87,
            7.81,
            7.03
           ]
          }
         ],
         "name": "2008"
        },
        {
         "data": [
          {
           "box": {
            "visible": false
           },
           "meanline": {
            "visible": true
           },
           "type": "violin",
           "y": [
            7.9,
            8.62,
            8.74,
            7.9,
            9.65,
            8.78,
            9.65,
            8.62,
            9.1,
            8.69,
            7.9,
            7.9,
            8.74,
            7.9,
            9.65,
            7.9,
            8.74,
            7.9,
            7.9,
            7.9,
            8.74,
            7.9,
            9.65,
            8.92,
            7.9,
            7.9,
            8.5,
            7.9,
            7.9,
            7.9,
            8.74,
            8.62,
            9.04,
            8.62,
            7.9,
            7.9,
            8.8,
            7.9,
            10.13,
            8.62,
            7.9,
            8.92,
            7.9,
            7.9,
            7.9,
            7.9,
            7.9,
            7.9,
            9.72,
            7.9,
            10.31,
            8.74,
            7.9,
            7.9
           ]
          }
         ],
         "name": "2009"
        },
        {
         "data": [
          {
           "box": {
            "visible": false
           },
           "meanline": {
            "visible": true
           },
           "type": "violin",
           "y": [
            8.6,
            9.19,
            8.6,
            8.6,
            9.49,
            8.6,
            9.79,
            8.6,
            9.79,
            8.6,
            8.6,
            8.6,
            8.6,
            8.6,
            9.79,
            8.6,
            8.6,
            8.6,
            8.6,
            8.6,
            8.9,
            8.6,
            9.49,
            8.78,
            8.6,
            8.6,
            8.6,
            8.6,
            8.6,
            8.6,
            8.6,
            8.6,
            8.9,
            8.6,
            8.6,
            8.6,
            8.66,
            8.6,
            9.96,
            8.6,
            8.6,
            8.78,
            8.6,
            8.6,
            8.6,
            8.6,
            8.6,
            8.6,
            9.56,
            8.6,
            10.14,
            8.6,
            8.6,
            8.6
           ]
          }
         ],
         "name": "2010"
        },
        {
         "data": [
          {
           "box": {
            "visible": false
           },
           "meanline": {
            "visible": true
           },
           "type": "violin",
           "y": [
            8.34,
            8.91,
            8.45,
            8.34,
            9.2,
            8.46,
            9.49,
            8.34,
            9.49,
            8.34,
            8.34,
            8.34,
            8.34,
            8.34,
            9.49,
            8.34,
            8.34,
            8.34,
            8.34,
            8.34,
            8.62,
            8.34,
            9.2,
            8.51,
            8.34,
            8.34,
            8.34,
            8.34,
            8.34,
            8.34,
            8.34,
            8.34,
            8.62,
            8.34,
            8.34,
            8.34,
            8.51,
            8.34,
            9.77,
            8.34,
            8.34,
            8.51,
            8.34,
            8.34,
            8.34,
            8.34,
            8.34,
            8.34,
            9.37,
            8.34,
            9.97,
            8.34,
            8.34,
            8.34
           ]
          }
         ],
         "name": "2011"
        },
        {
         "data": [
          {
           "box": {
            "visible": false
           },
           "meanline": {
            "visible": true
           },
           "type": "violin",
           "y": [
            8.17,
            8.73,
            8.62,
            8.17,
            9.01,
            8.61,
            9.29,
            8.17,
            9.29,
            8.64,
            8.17,
            8.17,
            8.17,
            8.17,
            9.29,
            8.17,
            8.17,
            8.17,
            8.17,
            8.17,
            8.45,
            8.17,
            9.01,
            8.34,
            8.17,
            8.17,
            8.17,
            8.17,
            8.17,
            8.17,
            8.17,
            8.17,
            8.45,
            8.17,
            8.17,
            8.17,
            8.67,
            8.17,
            9.91,
            8.17,
            8.17,
            8.34,
            8.17,
            8.17,
            8.17,
            8.17,
            8.17,
            8.17,
            9.53,
            8.17,
            10.18,
            8.17,
            8.17,
            8.17
           ]
          }
         ],
         "name": "2012"
        },
        {
         "data": [
          {
           "box": {
            "visible": false
           },
           "meanline": {
            "visible": true
           },
           "type": "violin",
           "y": [
            8.05,
            8.61,
            8.66,
            8.05,
            8.88,
            8.64,
            9.16,
            8.05,
            9.16,
            8.65,
            8.05,
            8.05,
            8.05,
            8.05,
            9.16,
            8.05,
            8.05,
            8.05,
            8.05,
            8.05,
            8.33,
            8.05,
            8.88,
            8.22,
            8.05,
            8.05,
            8.16,
            8.05,
            8.05,
            8.05,
            8.05,
            8.05,
            8.33,
            8.05,
            8.05,
            8.05,
            8.72,
            8.05,
            9.94,
            8.05,
            8.05,
            8.61,
            8.05,
            8.05,
            8.05,
            8.05,
            8.05,
            8.05,
            9.55,
            8.05,
            10.2,
            8.05,
            8.05,
            8.05
           ]
          }
         ],
         "name": "2013"
        },
        {
         "data": [
          {
           "box": {
            "visible": false
           },
           "meanline": {
            "visible": true
           },
           "type": "violin",
           "y": [
            7.92,
            8.47,
            8.63,
            7.92,
            9.83,
            8.74,
            9.51,
            8.47,
            10.38,
            8.66,
            7.92,
            7.92,
            7.92,
            7.92,
            9.01,
            7.92,
            7.92,
            7.92,
            7.92,
            7.92,
            8.19,
            7.92,
            8.74,
            8.9,
            7.92,
            7.92,
            8.19,
            8.63,
            7.92,
            7.92,
            7.92,
            9.01,
            8.19,
            8.74,
            7.92,
            7.92,
            7.92,
            7.92,
            9.94,
            7.92,
            7.92,
            8.74,
            7.92,
            7.92,
            7.92,
            7.92,
            7.92,
            7.92,
            9.54,
            7.92,
            10.18,
            7.92,
            7.92,
            7.92
           ]
          }
         ],
         "name": "2014"
        },
        {
         "data": [
          {
           "box": {
            "visible": false
           },
           "meanline": {
            "visible": true
           },
           "type": "violin",
           "y": [
            7.91,
            9.55,
            8.79,
            8.18,
            9.82,
            8.98,
            9.99,
            9,
            11.46,
            8.79,
            7.91,
            9,
            8.46,
            7.91,
            9,
            7.91,
            7.91,
            7.91,
            7.91,
            7.91,
            8.18,
            9,
            9.82,
            8.89,
            7.91,
            7.91,
            8.35,
            8.79,
            8.73,
            7.91,
            7.91,
            9.15,
            8.18,
            9.55,
            7.91,
            7.91,
            7.91,
            7.91,
            10.09,
            7.91,
            7.91,
            9.82,
            7.91,
            9.28,
            7.91,
            7.91,
            7.91,
            7.91,
            9.99,
            7.91,
            10.33,
            8.73,
            7.91,
            7.91
           ]
          }
         ],
         "name": "2015"
        },
        {
         "data": [
          {
           "box": {
            "visible": false
           },
           "meanline": {
            "visible": true
           },
           "type": "violin",
           "y": [
            7.81,
            10.51,
            8.68,
            8.62,
            10.78,
            8.96,
            10.35,
            8.89,
            12.39,
            8.68,
            7.81,
            8.89,
            9.16,
            7.81,
            8.89,
            7.81,
            7.81,
            7.81,
            7.81,
            7.81,
            8.08,
            9.43,
            10.78,
            9.16,
            7.81,
            7.81,
            8.24,
            8.68,
            9.7,
            7.81,
            7.81,
            9.03,
            8.08,
            9.7,
            7.81,
            7.81,
            7.81,
            7.81,
            10.51,
            7.81,
            7.81,
            10.35,
            7.81,
            9.21,
            7.81,
            7.81,
            7.81,
            7.81,
            10.35,
            7.81,
            10.21,
            9.43,
            7.81,
            7.81
           ]
          }
         ],
         "name": "2016"
        },
        {
         "data": [
          {
           "box": {
            "visible": false
           },
           "meanline": {
            "visible": true
           },
           "type": "violin",
           "y": [
            7.65,
            10.34,
            10.55,
            8.97,
            10.55,
            9.81,
            10.66,
            8.71,
            12.14,
            8.55,
            7.65,
            8.71,
            9.76,
            7.65,
            8.71,
            7.65,
            7.65,
            7.65,
            7.65,
            7.65,
            9.5,
            9.23,
            11.61,
            9.39,
            8.18,
            7.65,
            8.13,
            8.6,
            9.5,
            7.65,
            7.65,
            8.91,
            7.91,
            10.24,
            7.65,
            7.65,
            8.6,
            7.65,
            10.29,
            7.65,
            7.65,
            10.13,
            7.65,
            9.13,
            7.65,
            7.65,
            7.65,
            7.65,
            10.55,
            7.65,
            11.61,
            9.23,
            7.65,
            7.65
           ]
          }
         ],
         "name": "2017"
        },
        {
         "data": [
          {
           "box": {
            "visible": false
           },
           "meanline": {
            "visible": true
           },
           "type": "violin",
           "y": [
            7.47,
            10.14,
            10.82,
            8.76,
            11.33,
            10.51,
            10.4,
            8.5,
            13.65,
            8.5,
            7.47,
            8.5,
            10.4,
            7.47,
            8.5,
            7.47,
            7.47,
            7.47,
            7.47,
            7.47,
            10.3,
            10.4,
            11.33,
            9.53,
            8.28,
            7.47,
            8.09,
            8.55,
            9.27,
            7.47,
            7.47,
            8.86,
            7.73,
            10.71,
            7.47,
            7.47,
            8.55,
            7.47,
            11.07,
            7.47,
            7.47,
            10.4,
            7.47,
            9.12,
            7.47,
            7.47,
            7.47,
            7.47,
            10.82,
            7.47,
            11.85,
            9.01,
            7.47,
            7.47
           ]
          }
         ],
         "name": "2018"
        },
        {
         "data": [
          {
           "box": {
            "visible": false
           },
           "meanline": {
            "visible": true
           },
           "type": "violin",
           "y": [
            7.34,
            10.31,
            12.14,
            9.36,
            12.14,
            12.14,
            11.13,
            9.36,
            14.16,
            8.66,
            7.34,
            8.35,
            10.22,
            7.34,
            9.36,
            7.34,
            7.34,
            7.34,
            7.34,
            7.34,
            12.14,
            11.13,
            12.9,
            9.76,
            8.25,
            7.34,
            9.56,
            8.75,
            9.11,
            7.34,
            7.34,
            11.13,
            9.11,
            11.94,
            7.34,
            7.34,
            8.8,
            7.34,
            11.38,
            7.34,
            7.34,
            10.62,
            7.34,
            9.41,
            7.34,
            7.34,
            10.62,
            7.34,
            11.09,
            7.34,
            13.66,
            8.85,
            7.34,
            7.34
           ]
          }
         ],
         "name": "2019"
        },
        {
         "data": [
          {
           "box": {
            "visible": false
           },
           "meanline": {
            "visible": true
           },
           "type": "violin",
           "y": [
            7.25,
            10.19,
            12,
            10,
            13,
            12,
            11,
            9.25,
            14,
            8.56,
            7.25,
            8.25,
            10.1,
            7.25,
            9.25,
            7.25,
            7.25,
            7.25,
            7.25,
            7.25,
            12,
            11,
            12.75,
            9.65,
            8.15,
            7.25,
            9.45,
            8.65,
            9,
            7.25,
            7.25,
            11,
            9,
            11.8,
            7.25,
            7.25,
            8.7,
            7.25,
            11.25,
            7.25,
            7.25,
            10.5,
            7.25,
            9.3,
            7.25,
            7.25,
            10.5,
            7.25,
            10.96,
            7.25,
            13.5,
            8.75,
            7.25,
            7.25
           ]
          }
         ],
         "name": "2020"
        }
       ],
       "layout": {
        "height": 800,
        "sliders": [
         {
          "steps": [
           {
            "args": [
             [
              "1968"
             ],
             {
              "frame": {
               "duration": 200,
               "redraw": true
              },
              "mode": "immediate",
              "transition": {
               "duration": 0
              }
             }
            ],
            "label": "1968",
            "method": "animate"
           },
           {
            "args": [
             [
              "1969"
             ],
             {
              "frame": {
               "duration": 200,
               "redraw": true
              },
              "mode": "immediate",
              "transition": {
               "duration": 0
              }
             }
            ],
            "label": "1969",
            "method": "animate"
           },
           {
            "args": [
             [
              "1970"
             ],
             {
              "frame": {
               "duration": 200,
               "redraw": true
              },
              "mode": "immediate",
              "transition": {
               "duration": 0
              }
             }
            ],
            "label": "1970",
            "method": "animate"
           },
           {
            "args": [
             [
              "1971"
             ],
             {
              "frame": {
               "duration": 200,
               "redraw": true
              },
              "mode": "immediate",
              "transition": {
               "duration": 0
              }
             }
            ],
            "label": "1971",
            "method": "animate"
           },
           {
            "args": [
             [
              "1972"
             ],
             {
              "frame": {
               "duration": 200,
               "redraw": true
              },
              "mode": "immediate",
              "transition": {
               "duration": 0
              }
             }
            ],
            "label": "1972",
            "method": "animate"
           },
           {
            "args": [
             [
              "1973"
             ],
             {
              "frame": {
               "duration": 200,
               "redraw": true
              },
              "mode": "immediate",
              "transition": {
               "duration": 0
              }
             }
            ],
            "label": "1973",
            "method": "animate"
           },
           {
            "args": [
             [
              "1974"
             ],
             {
              "frame": {
               "duration": 200,
               "redraw": true
              },
              "mode": "immediate",
              "transition": {
               "duration": 0
              }
             }
            ],
            "label": "1974",
            "method": "animate"
           },
           {
            "args": [
             [
              "1975"
             ],
             {
              "frame": {
               "duration": 200,
               "redraw": true
              },
              "mode": "immediate",
              "transition": {
               "duration": 0
              }
             }
            ],
            "label": "1975",
            "method": "animate"
           },
           {
            "args": [
             [
              "1976"
             ],
             {
              "frame": {
               "duration": 200,
               "redraw": true
              },
              "mode": "immediate",
              "transition": {
               "duration": 0
              }
             }
            ],
            "label": "1976",
            "method": "animate"
           },
           {
            "args": [
             [
              "1977"
             ],
             {
              "frame": {
               "duration": 200,
               "redraw": true
              },
              "mode": "immediate",
              "transition": {
               "duration": 0
              }
             }
            ],
            "label": "1977",
            "method": "animate"
           },
           {
            "args": [
             [
              "1978"
             ],
             {
              "frame": {
               "duration": 200,
               "redraw": true
              },
              "mode": "immediate",
              "transition": {
               "duration": 0
              }
             }
            ],
            "label": "1978",
            "method": "animate"
           },
           {
            "args": [
             [
              "1979"
             ],
             {
              "frame": {
               "duration": 200,
               "redraw": true
              },
              "mode": "immediate",
              "transition": {
               "duration": 0
              }
             }
            ],
            "label": "1979",
            "method": "animate"
           },
           {
            "args": [
             [
              "1980"
             ],
             {
              "frame": {
               "duration": 200,
               "redraw": true
              },
              "mode": "immediate",
              "transition": {
               "duration": 0
              }
             }
            ],
            "label": "1980",
            "method": "animate"
           },
           {
            "args": [
             [
              "1981"
             ],
             {
              "frame": {
               "duration": 200,
               "redraw": true
              },
              "mode": "immediate",
              "transition": {
               "duration": 0
              }
             }
            ],
            "label": "1981",
            "method": "animate"
           },
           {
            "args": [
             [
              "1982"
             ],
             {
              "frame": {
               "duration": 200,
               "redraw": true
              },
              "mode": "immediate",
              "transition": {
               "duration": 0
              }
             }
            ],
            "label": "1982",
            "method": "animate"
           },
           {
            "args": [
             [
              "1983"
             ],
             {
              "frame": {
               "duration": 200,
               "redraw": true
              },
              "mode": "immediate",
              "transition": {
               "duration": 0
              }
             }
            ],
            "label": "1983",
            "method": "animate"
           },
           {
            "args": [
             [
              "1984"
             ],
             {
              "frame": {
               "duration": 200,
               "redraw": true
              },
              "mode": "immediate",
              "transition": {
               "duration": 0
              }
             }
            ],
            "label": "1984",
            "method": "animate"
           },
           {
            "args": [
             [
              "1985"
             ],
             {
              "frame": {
               "duration": 200,
               "redraw": true
              },
              "mode": "immediate",
              "transition": {
               "duration": 0
              }
             }
            ],
            "label": "1985",
            "method": "animate"
           },
           {
            "args": [
             [
              "1986"
             ],
             {
              "frame": {
               "duration": 200,
               "redraw": true
              },
              "mode": "immediate",
              "transition": {
               "duration": 0
              }
             }
            ],
            "label": "1986",
            "method": "animate"
           },
           {
            "args": [
             [
              "1987"
             ],
             {
              "frame": {
               "duration": 200,
               "redraw": true
              },
              "mode": "immediate",
              "transition": {
               "duration": 0
              }
             }
            ],
            "label": "1987",
            "method": "animate"
           },
           {
            "args": [
             [
              "1988"
             ],
             {
              "frame": {
               "duration": 200,
               "redraw": true
              },
              "mode": "immediate",
              "transition": {
               "duration": 0
              }
             }
            ],
            "label": "1988",
            "method": "animate"
           },
           {
            "args": [
             [
              "1989"
             ],
             {
              "frame": {
               "duration": 200,
               "redraw": true
              },
              "mode": "immediate",
              "transition": {
               "duration": 0
              }
             }
            ],
            "label": "1989",
            "method": "animate"
           },
           {
            "args": [
             [
              "1990"
             ],
             {
              "frame": {
               "duration": 200,
               "redraw": true
              },
              "mode": "immediate",
              "transition": {
               "duration": 0
              }
             }
            ],
            "label": "1990",
            "method": "animate"
           },
           {
            "args": [
             [
              "1991"
             ],
             {
              "frame": {
               "duration": 200,
               "redraw": true
              },
              "mode": "immediate",
              "transition": {
               "duration": 0
              }
             }
            ],
            "label": "1991",
            "method": "animate"
           },
           {
            "args": [
             [
              "1992"
             ],
             {
              "frame": {
               "duration": 200,
               "redraw": true
              },
              "mode": "immediate",
              "transition": {
               "duration": 0
              }
             }
            ],
            "label": "1992",
            "method": "animate"
           },
           {
            "args": [
             [
              "1993"
             ],
             {
              "frame": {
               "duration": 200,
               "redraw": true
              },
              "mode": "immediate",
              "transition": {
               "duration": 0
              }
             }
            ],
            "label": "1993",
            "method": "animate"
           },
           {
            "args": [
             [
              "1994"
             ],
             {
              "frame": {
               "duration": 200,
               "redraw": true
              },
              "mode": "immediate",
              "transition": {
               "duration": 0
              }
             }
            ],
            "label": "1994",
            "method": "animate"
           },
           {
            "args": [
             [
              "1995"
             ],
             {
              "frame": {
               "duration": 200,
               "redraw": true
              },
              "mode": "immediate",
              "transition": {
               "duration": 0
              }
             }
            ],
            "label": "1995",
            "method": "animate"
           },
           {
            "args": [
             [
              "1996"
             ],
             {
              "frame": {
               "duration": 200,
               "redraw": true
              },
              "mode": "immediate",
              "transition": {
               "duration": 0
              }
             }
            ],
            "label": "1996",
            "method": "animate"
           },
           {
            "args": [
             [
              "1997"
             ],
             {
              "frame": {
               "duration": 200,
               "redraw": true
              },
              "mode": "immediate",
              "transition": {
               "duration": 0
              }
             }
            ],
            "label": "1997",
            "method": "animate"
           },
           {
            "args": [
             [
              "1998"
             ],
             {
              "frame": {
               "duration": 200,
               "redraw": true
              },
              "mode": "immediate",
              "transition": {
               "duration": 0
              }
             }
            ],
            "label": "1998",
            "method": "animate"
           },
           {
            "args": [
             [
              "1999"
             ],
             {
              "frame": {
               "duration": 200,
               "redraw": true
              },
              "mode": "immediate",
              "transition": {
               "duration": 0
              }
             }
            ],
            "label": "1999",
            "method": "animate"
           },
           {
            "args": [
             [
              "2000"
             ],
             {
              "frame": {
               "duration": 200,
               "redraw": true
              },
              "mode": "immediate",
              "transition": {
               "duration": 0
              }
             }
            ],
            "label": "2000",
            "method": "animate"
           },
           {
            "args": [
             [
              "2001"
             ],
             {
              "frame": {
               "duration": 200,
               "redraw": true
              },
              "mode": "immediate",
              "transition": {
               "duration": 0
              }
             }
            ],
            "label": "2001",
            "method": "animate"
           },
           {
            "args": [
             [
              "2002"
             ],
             {
              "frame": {
               "duration": 200,
               "redraw": true
              },
              "mode": "immediate",
              "transition": {
               "duration": 0
              }
             }
            ],
            "label": "2002",
            "method": "animate"
           },
           {
            "args": [
             [
              "2003"
             ],
             {
              "frame": {
               "duration": 200,
               "redraw": true
              },
              "mode": "immediate",
              "transition": {
               "duration": 0
              }
             }
            ],
            "label": "2003",
            "method": "animate"
           },
           {
            "args": [
             [
              "2004"
             ],
             {
              "frame": {
               "duration": 200,
               "redraw": true
              },
              "mode": "immediate",
              "transition": {
               "duration": 0
              }
             }
            ],
            "label": "2004",
            "method": "animate"
           },
           {
            "args": [
             [
              "2005"
             ],
             {
              "frame": {
               "duration": 200,
               "redraw": true
              },
              "mode": "immediate",
              "transition": {
               "duration": 0
              }
             }
            ],
            "label": "2005",
            "method": "animate"
           },
           {
            "args": [
             [
              "2006"
             ],
             {
              "frame": {
               "duration": 200,
               "redraw": true
              },
              "mode": "immediate",
              "transition": {
               "duration": 0
              }
             }
            ],
            "label": "2006",
            "method": "animate"
           },
           {
            "args": [
             [
              "2007"
             ],
             {
              "frame": {
               "duration": 200,
               "redraw": true
              },
              "mode": "immediate",
              "transition": {
               "duration": 0
              }
             }
            ],
            "label": "2007",
            "method": "animate"
           },
           {
            "args": [
             [
              "2008"
             ],
             {
              "frame": {
               "duration": 200,
               "redraw": true
              },
              "mode": "immediate",
              "transition": {
               "duration": 0
              }
             }
            ],
            "label": "2008",
            "method": "animate"
           },
           {
            "args": [
             [
              "2009"
             ],
             {
              "frame": {
               "duration": 200,
               "redraw": true
              },
              "mode": "immediate",
              "transition": {
               "duration": 0
              }
             }
            ],
            "label": "2009",
            "method": "animate"
           },
           {
            "args": [
             [
              "2010"
             ],
             {
              "frame": {
               "duration": 200,
               "redraw": true
              },
              "mode": "immediate",
              "transition": {
               "duration": 0
              }
             }
            ],
            "label": "2010",
            "method": "animate"
           },
           {
            "args": [
             [
              "2011"
             ],
             {
              "frame": {
               "duration": 200,
               "redraw": true
              },
              "mode": "immediate",
              "transition": {
               "duration": 0
              }
             }
            ],
            "label": "2011",
            "method": "animate"
           },
           {
            "args": [
             [
              "2012"
             ],
             {
              "frame": {
               "duration": 200,
               "redraw": true
              },
              "mode": "immediate",
              "transition": {
               "duration": 0
              }
             }
            ],
            "label": "2012",
            "method": "animate"
           },
           {
            "args": [
             [
              "2013"
             ],
             {
              "frame": {
               "duration": 200,
               "redraw": true
              },
              "mode": "immediate",
              "transition": {
               "duration": 0
              }
             }
            ],
            "label": "2013",
            "method": "animate"
           },
           {
            "args": [
             [
              "2014"
             ],
             {
              "frame": {
               "duration": 200,
               "redraw": true
              },
              "mode": "immediate",
              "transition": {
               "duration": 0
              }
             }
            ],
            "label": "2014",
            "method": "animate"
           },
           {
            "args": [
             [
              "2015"
             ],
             {
              "frame": {
               "duration": 200,
               "redraw": true
              },
              "mode": "immediate",
              "transition": {
               "duration": 0
              }
             }
            ],
            "label": "2015",
            "method": "animate"
           },
           {
            "args": [
             [
              "2016"
             ],
             {
              "frame": {
               "duration": 200,
               "redraw": true
              },
              "mode": "immediate",
              "transition": {
               "duration": 0
              }
             }
            ],
            "label": "2016",
            "method": "animate"
           },
           {
            "args": [
             [
              "2017"
             ],
             {
              "frame": {
               "duration": 200,
               "redraw": true
              },
              "mode": "immediate",
              "transition": {
               "duration": 0
              }
             }
            ],
            "label": "2017",
            "method": "animate"
           },
           {
            "args": [
             [
              "2018"
             ],
             {
              "frame": {
               "duration": 200,
               "redraw": true
              },
              "mode": "immediate",
              "transition": {
               "duration": 0
              }
             }
            ],
            "label": "2018",
            "method": "animate"
           },
           {
            "args": [
             [
              "2019"
             ],
             {
              "frame": {
               "duration": 200,
               "redraw": true
              },
              "mode": "immediate",
              "transition": {
               "duration": 0
              }
             }
            ],
            "label": "2019",
            "method": "animate"
           },
           {
            "args": [
             [
              "2020"
             ],
             {
              "frame": {
               "duration": 200,
               "redraw": true
              },
              "mode": "immediate",
              "transition": {
               "duration": 0
              }
             }
            ],
            "label": "2020",
            "method": "animate"
           }
          ],
          "transition": {
           "duration": 0
          },
          "x": 0,
          "xanchor": "left",
          "y": 0,
          "yanchor": "top"
         }
        ],
        "template": {
         "data": {
          "bar": [
           {
            "error_x": {
             "color": "#2a3f5f"
            },
            "error_y": {
             "color": "#2a3f5f"
            },
            "marker": {
             "line": {
              "color": "#E5ECF6",
              "width": 0.5
             },
             "pattern": {
              "fillmode": "overlay",
              "size": 10,
              "solidity": 0.2
             }
            },
            "type": "bar"
           }
          ],
          "barpolar": [
           {
            "marker": {
             "line": {
              "color": "#E5ECF6",
              "width": 0.5
             },
             "pattern": {
              "fillmode": "overlay",
              "size": 10,
              "solidity": 0.2
             }
            },
            "type": "barpolar"
           }
          ],
          "carpet": [
           {
            "aaxis": {
             "endlinecolor": "#2a3f5f",
             "gridcolor": "white",
             "linecolor": "white",
             "minorgridcolor": "white",
             "startlinecolor": "#2a3f5f"
            },
            "baxis": {
             "endlinecolor": "#2a3f5f",
             "gridcolor": "white",
             "linecolor": "white",
             "minorgridcolor": "white",
             "startlinecolor": "#2a3f5f"
            },
            "type": "carpet"
           }
          ],
          "choropleth": [
           {
            "colorbar": {
             "outlinewidth": 0,
             "ticks": ""
            },
            "type": "choropleth"
           }
          ],
          "contour": [
           {
            "colorbar": {
             "outlinewidth": 0,
             "ticks": ""
            },
            "colorscale": [
             [
              0,
              "#0d0887"
             ],
             [
              0.1111111111111111,
              "#46039f"
             ],
             [
              0.2222222222222222,
              "#7201a8"
             ],
             [
              0.3333333333333333,
              "#9c179e"
             ],
             [
              0.4444444444444444,
              "#bd3786"
             ],
             [
              0.5555555555555556,
              "#d8576b"
             ],
             [
              0.6666666666666666,
              "#ed7953"
             ],
             [
              0.7777777777777778,
              "#fb9f3a"
             ],
             [
              0.8888888888888888,
              "#fdca26"
             ],
             [
              1,
              "#f0f921"
             ]
            ],
            "type": "contour"
           }
          ],
          "contourcarpet": [
           {
            "colorbar": {
             "outlinewidth": 0,
             "ticks": ""
            },
            "type": "contourcarpet"
           }
          ],
          "heatmap": [
           {
            "colorbar": {
             "outlinewidth": 0,
             "ticks": ""
            },
            "colorscale": [
             [
              0,
              "#0d0887"
             ],
             [
              0.1111111111111111,
              "#46039f"
             ],
             [
              0.2222222222222222,
              "#7201a8"
             ],
             [
              0.3333333333333333,
              "#9c179e"
             ],
             [
              0.4444444444444444,
              "#bd3786"
             ],
             [
              0.5555555555555556,
              "#d8576b"
             ],
             [
              0.6666666666666666,
              "#ed7953"
             ],
             [
              0.7777777777777778,
              "#fb9f3a"
             ],
             [
              0.8888888888888888,
              "#fdca26"
             ],
             [
              1,
              "#f0f921"
             ]
            ],
            "type": "heatmap"
           }
          ],
          "heatmapgl": [
           {
            "colorbar": {
             "outlinewidth": 0,
             "ticks": ""
            },
            "colorscale": [
             [
              0,
              "#0d0887"
             ],
             [
              0.1111111111111111,
              "#46039f"
             ],
             [
              0.2222222222222222,
              "#7201a8"
             ],
             [
              0.3333333333333333,
              "#9c179e"
             ],
             [
              0.4444444444444444,
              "#bd3786"
             ],
             [
              0.5555555555555556,
              "#d8576b"
             ],
             [
              0.6666666666666666,
              "#ed7953"
             ],
             [
              0.7777777777777778,
              "#fb9f3a"
             ],
             [
              0.8888888888888888,
              "#fdca26"
             ],
             [
              1,
              "#f0f921"
             ]
            ],
            "type": "heatmapgl"
           }
          ],
          "histogram": [
           {
            "marker": {
             "pattern": {
              "fillmode": "overlay",
              "size": 10,
              "solidity": 0.2
             }
            },
            "type": "histogram"
           }
          ],
          "histogram2d": [
           {
            "colorbar": {
             "outlinewidth": 0,
             "ticks": ""
            },
            "colorscale": [
             [
              0,
              "#0d0887"
             ],
             [
              0.1111111111111111,
              "#46039f"
             ],
             [
              0.2222222222222222,
              "#7201a8"
             ],
             [
              0.3333333333333333,
              "#9c179e"
             ],
             [
              0.4444444444444444,
              "#bd3786"
             ],
             [
              0.5555555555555556,
              "#d8576b"
             ],
             [
              0.6666666666666666,
              "#ed7953"
             ],
             [
              0.7777777777777778,
              "#fb9f3a"
             ],
             [
              0.8888888888888888,
              "#fdca26"
             ],
             [
              1,
              "#f0f921"
             ]
            ],
            "type": "histogram2d"
           }
          ],
          "histogram2dcontour": [
           {
            "colorbar": {
             "outlinewidth": 0,
             "ticks": ""
            },
            "colorscale": [
             [
              0,
              "#0d0887"
             ],
             [
              0.1111111111111111,
              "#46039f"
             ],
             [
              0.2222222222222222,
              "#7201a8"
             ],
             [
              0.3333333333333333,
              "#9c179e"
             ],
             [
              0.4444444444444444,
              "#bd3786"
             ],
             [
              0.5555555555555556,
              "#d8576b"
             ],
             [
              0.6666666666666666,
              "#ed7953"
             ],
             [
              0.7777777777777778,
              "#fb9f3a"
             ],
             [
              0.8888888888888888,
              "#fdca26"
             ],
             [
              1,
              "#f0f921"
             ]
            ],
            "type": "histogram2dcontour"
           }
          ],
          "mesh3d": [
           {
            "colorbar": {
             "outlinewidth": 0,
             "ticks": ""
            },
            "type": "mesh3d"
           }
          ],
          "parcoords": [
           {
            "line": {
             "colorbar": {
              "outlinewidth": 0,
              "ticks": ""
             }
            },
            "type": "parcoords"
           }
          ],
          "pie": [
           {
            "automargin": true,
            "type": "pie"
           }
          ],
          "scatter": [
           {
            "fillpattern": {
             "fillmode": "overlay",
             "size": 10,
             "solidity": 0.2
            },
            "type": "scatter"
           }
          ],
          "scatter3d": [
           {
            "line": {
             "colorbar": {
              "outlinewidth": 0,
              "ticks": ""
             }
            },
            "marker": {
             "colorbar": {
              "outlinewidth": 0,
              "ticks": ""
             }
            },
            "type": "scatter3d"
           }
          ],
          "scattercarpet": [
           {
            "marker": {
             "colorbar": {
              "outlinewidth": 0,
              "ticks": ""
             }
            },
            "type": "scattercarpet"
           }
          ],
          "scattergeo": [
           {
            "marker": {
             "colorbar": {
              "outlinewidth": 0,
              "ticks": ""
             }
            },
            "type": "scattergeo"
           }
          ],
          "scattergl": [
           {
            "marker": {
             "colorbar": {
              "outlinewidth": 0,
              "ticks": ""
             }
            },
            "type": "scattergl"
           }
          ],
          "scattermapbox": [
           {
            "marker": {
             "colorbar": {
              "outlinewidth": 0,
              "ticks": ""
             }
            },
            "type": "scattermapbox"
           }
          ],
          "scatterpolar": [
           {
            "marker": {
             "colorbar": {
              "outlinewidth": 0,
              "ticks": ""
             }
            },
            "type": "scatterpolar"
           }
          ],
          "scatterpolargl": [
           {
            "marker": {
             "colorbar": {
              "outlinewidth": 0,
              "ticks": ""
             }
            },
            "type": "scatterpolargl"
           }
          ],
          "scatterternary": [
           {
            "marker": {
             "colorbar": {
              "outlinewidth": 0,
              "ticks": ""
             }
            },
            "type": "scatterternary"
           }
          ],
          "surface": [
           {
            "colorbar": {
             "outlinewidth": 0,
             "ticks": ""
            },
            "colorscale": [
             [
              0,
              "#0d0887"
             ],
             [
              0.1111111111111111,
              "#46039f"
             ],
             [
              0.2222222222222222,
              "#7201a8"
             ],
             [
              0.3333333333333333,
              "#9c179e"
             ],
             [
              0.4444444444444444,
              "#bd3786"
             ],
             [
              0.5555555555555556,
              "#d8576b"
             ],
             [
              0.6666666666666666,
              "#ed7953"
             ],
             [
              0.7777777777777778,
              "#fb9f3a"
             ],
             [
              0.8888888888888888,
              "#fdca26"
             ],
             [
              1,
              "#f0f921"
             ]
            ],
            "type": "surface"
           }
          ],
          "table": [
           {
            "cells": {
             "fill": {
              "color": "#EBF0F8"
             },
             "line": {
              "color": "white"
             }
            },
            "header": {
             "fill": {
              "color": "#C8D4E3"
             },
             "line": {
              "color": "white"
             }
            },
            "type": "table"
           }
          ]
         },
         "layout": {
          "annotationdefaults": {
           "arrowcolor": "#2a3f5f",
           "arrowhead": 0,
           "arrowwidth": 1
          },
          "autotypenumbers": "strict",
          "coloraxis": {
           "colorbar": {
            "outlinewidth": 0,
            "ticks": ""
           }
          },
          "colorscale": {
           "diverging": [
            [
             0,
             "#8e0152"
            ],
            [
             0.1,
             "#c51b7d"
            ],
            [
             0.2,
             "#de77ae"
            ],
            [
             0.3,
             "#f1b6da"
            ],
            [
             0.4,
             "#fde0ef"
            ],
            [
             0.5,
             "#f7f7f7"
            ],
            [
             0.6,
             "#e6f5d0"
            ],
            [
             0.7,
             "#b8e186"
            ],
            [
             0.8,
             "#7fbc41"
            ],
            [
             0.9,
             "#4d9221"
            ],
            [
             1,
             "#276419"
            ]
           ],
           "sequential": [
            [
             0,
             "#0d0887"
            ],
            [
             0.1111111111111111,
             "#46039f"
            ],
            [
             0.2222222222222222,
             "#7201a8"
            ],
            [
             0.3333333333333333,
             "#9c179e"
            ],
            [
             0.4444444444444444,
             "#bd3786"
            ],
            [
             0.5555555555555556,
             "#d8576b"
            ],
            [
             0.6666666666666666,
             "#ed7953"
            ],
            [
             0.7777777777777778,
             "#fb9f3a"
            ],
            [
             0.8888888888888888,
             "#fdca26"
            ],
            [
             1,
             "#f0f921"
            ]
           ],
           "sequentialminus": [
            [
             0,
             "#0d0887"
            ],
            [
             0.1111111111111111,
             "#46039f"
            ],
            [
             0.2222222222222222,
             "#7201a8"
            ],
            [
             0.3333333333333333,
             "#9c179e"
            ],
            [
             0.4444444444444444,
             "#bd3786"
            ],
            [
             0.5555555555555556,
             "#d8576b"
            ],
            [
             0.6666666666666666,
             "#ed7953"
            ],
            [
             0.7777777777777778,
             "#fb9f3a"
            ],
            [
             0.8888888888888888,
             "#fdca26"
            ],
            [
             1,
             "#f0f921"
            ]
           ]
          },
          "colorway": [
           "#636efa",
           "#EF553B",
           "#00cc96",
           "#ab63fa",
           "#FFA15A",
           "#19d3f3",
           "#FF6692",
           "#B6E880",
           "#FF97FF",
           "#FECB52"
          ],
          "font": {
           "color": "#2a3f5f"
          },
          "geo": {
           "bgcolor": "white",
           "lakecolor": "white",
           "landcolor": "#E5ECF6",
           "showlakes": true,
           "showland": true,
           "subunitcolor": "white"
          },
          "hoverlabel": {
           "align": "left"
          },
          "hovermode": "closest",
          "mapbox": {
           "style": "light"
          },
          "paper_bgcolor": "white",
          "plot_bgcolor": "#E5ECF6",
          "polar": {
           "angularaxis": {
            "gridcolor": "white",
            "linecolor": "white",
            "ticks": ""
           },
           "bgcolor": "#E5ECF6",
           "radialaxis": {
            "gridcolor": "white",
            "linecolor": "white",
            "ticks": ""
           }
          },
          "scene": {
           "xaxis": {
            "backgroundcolor": "#E5ECF6",
            "gridcolor": "white",
            "gridwidth": 2,
            "linecolor": "white",
            "showbackground": true,
            "ticks": "",
            "zerolinecolor": "white"
           },
           "yaxis": {
            "backgroundcolor": "#E5ECF6",
            "gridcolor": "white",
            "gridwidth": 2,
            "linecolor": "white",
            "showbackground": true,
            "ticks": "",
            "zerolinecolor": "white"
           },
           "zaxis": {
            "backgroundcolor": "#E5ECF6",
            "gridcolor": "white",
            "gridwidth": 2,
            "linecolor": "white",
            "showbackground": true,
            "ticks": "",
            "zerolinecolor": "white"
           }
          },
          "shapedefaults": {
           "line": {
            "color": "#2a3f5f"
           }
          },
          "ternary": {
           "aaxis": {
            "gridcolor": "white",
            "linecolor": "white",
            "ticks": ""
           },
           "baxis": {
            "gridcolor": "white",
            "linecolor": "white",
            "ticks": ""
           },
           "bgcolor": "#E5ECF6",
           "caxis": {
            "gridcolor": "white",
            "linecolor": "white",
            "ticks": ""
           }
          },
          "title": {
           "x": 0.05
          },
          "xaxis": {
           "automargin": true,
           "gridcolor": "white",
           "linecolor": "white",
           "ticks": "",
           "title": {
            "standoff": 15
           },
           "zerolinecolor": "white",
           "zerolinewidth": 2
          },
          "yaxis": {
           "automargin": true,
           "gridcolor": "white",
           "linecolor": "white",
           "ticks": "",
           "title": {
            "standoff": 15
           },
           "zerolinecolor": "white",
           "zerolinewidth": 2
          }
         }
        },
        "updatemenus": [
         {
          "buttons": [
           {
            "args": [
             null,
             {
              "frame": {
               "duration": 200,
               "redraw": true
              },
              "transition": {
               "duration": 0
              }
             }
            ],
            "label": "Play",
            "method": "animate"
           }
          ],
          "type": "buttons"
         }
        ],
        "xaxis": {
         "title": {
          "text": "Year"
         }
        },
        "yaxis": {
         "title": {
          "text": "Minimum Wage (2020 Dollars)"
         }
        }
       }
      }
     },
     "metadata": {},
     "output_type": "display_data"
    }
   ],
   "source": [
    "import pandas as pd\n",
    "import plotly.graph_objects as go\n",
    "\n",
    "\n",
    "minimum_wage_data = pd.read_csv('minimum_wage_us.csv', encoding='ISO-8859-1')\n",
    "\n",
    "\n",
    "merged_data = minimum_wage_data[['Year', 'Effective.Minimum.Wage.2020.Dollars']].copy()\n",
    "\n",
    "\n",
    "fig = go.Figure()\n",
    "\n",
    "initial_year = merged_data['Year'].min()\n",
    "initial_data = merged_data[merged_data['Year'] == initial_year]\n",
    "fig.add_trace(go.Violin(\n",
    "    y=initial_data['Effective.Minimum.Wage.2020.Dollars'],\n",
    "    name=str(initial_year),\n",
    "    box_visible=False,  \n",
    "    meanline_visible=True\n",
    "))\n",
    "\n",
    "frames = []\n",
    "years = merged_data['Year'].unique()\n",
    "for year in years:\n",
    "    yearly_data = merged_data[merged_data['Year'] == year]\n",
    "    frames.append(go.Frame(\n",
    "        data=[go.Violin(\n",
    "            y=yearly_data['Effective.Minimum.Wage.2020.Dollars'],\n",
    "            box_visible=False, \n",
    "            meanline_visible=True\n",
    "        )],\n",
    "        name=str(year)\n",
    "    ))\n",
    "\n",
    "fig.frames = frames\n",
    "\n",
    "\n",
    "fig.update_layout(\n",
    "    updatemenus=[dict(\n",
    "        type=\"buttons\",\n",
    "        buttons=[dict(label=\"Play\",\n",
    "                      method=\"animate\",\n",
    "                      args=[None, dict(frame=dict(duration=200, redraw=True), \n",
    "                                       transition=dict(duration=0))])])]\n",
    ")\n",
    "\n",
    "sliders = [dict(steps=[dict(method='animate',\n",
    "                            args=[[str(year)], dict(mode='immediate',\n",
    "                                                    frame=dict(duration=200, redraw=True),  \n",
    "                                                    transition=dict(duration=0))],\n",
    "                            label=str(year)) for year in years],\n",
    "                transition=dict(duration=0),\n",
    "                x=0,  \n",
    "                xanchor='left',\n",
    "                y=0,\n",
    "                yanchor='top'\n",
    "               )]\n",
    "\n",
    "\n",
    "fig.update_layout(sliders=sliders, height=800)  \n",
    "\n",
    "fig.update_layout(yaxis_title='Minimum Wage (2020 Dollars)', xaxis_title='Year')\n",
    "\n",
    "fig.show()\n"
   ]
  },
  {
   "cell_type": "markdown",
   "id": "c3afd57e",
   "metadata": {},
   "source": [
    "Uit de grafiek kunnen we afleiden dat de mediaan door de jaren heen redelijk consistent is gebleven, zonder significante dalingen of stijgingen. Dit biedt een waardevol inzicht in de stabiliteit en veranderingen in de economische omstandigheden van de laagstbetaalde werknemers in de VS."
   ]
  },
  {
   "cell_type": "markdown",
   "id": "996f58fd",
   "metadata": {},
   "source": [
    "### Immigration and Unemployment Statistieken"
   ]
  },
  {
   "cell_type": "markdown",
   "id": "c54c9984",
   "metadata": {},
   "source": [
    "Om verdere inzicht te krijgen hoe legale en illegale immigranten de Amerikaanse arbeidsmarkt beinvloedt, zal er ook gekeken worden per jaar wat voor observaties er gezien kunnen worden op de werkloosheid. Dit zal het standpunt van dat immigranten significante invloed hebben op de arbeidsmarkt. Deze inzichten zullen bijdragen aan een beter begrip van de dynamiek tussen immigratie en de arbeidsmarkt in de Verenigde Staten."
   ]
  },
  {
   "cell_type": "code",
   "execution_count": 18,
   "id": "72c94bbf",
   "metadata": {
    "tags": [
     "hide-input"
    ]
   },
   "outputs": [
    {
     "data": {
      "application/vnd.plotly.v1+json": {
       "config": {
        "plotlyServerURL": "https://plot.ly"
       },
       "data": [
        {
         "mode": "lines+markers",
         "name": "Legal Immigrants",
         "type": "scatter",
         "x": [
          1980,
          1980,
          1980,
          1980,
          1980,
          1980,
          1980,
          1980,
          1980,
          1980,
          1980,
          1980,
          1981,
          1981,
          1981,
          1981,
          1981,
          1981,
          1981,
          1981,
          1981,
          1981,
          1981,
          1981,
          1982,
          1982,
          1982,
          1982,
          1982,
          1982,
          1982,
          1982,
          1982,
          1982,
          1982,
          1982,
          1983,
          1983,
          1983,
          1983,
          1983,
          1983,
          1983,
          1983,
          1983,
          1983,
          1983,
          1983,
          1984,
          1984,
          1984,
          1984,
          1984,
          1984,
          1984,
          1984,
          1984,
          1984,
          1984,
          1984,
          1985,
          1985,
          1985,
          1985,
          1985,
          1985,
          1985,
          1985,
          1985,
          1985,
          1985,
          1985,
          1986,
          1986,
          1986,
          1986,
          1986,
          1986,
          1986,
          1986,
          1986,
          1986,
          1986,
          1986,
          1987,
          1987,
          1987,
          1987,
          1987,
          1987,
          1987,
          1987,
          1987,
          1987,
          1987,
          1987,
          1988,
          1988,
          1988,
          1988,
          1988,
          1988,
          1988,
          1988,
          1988,
          1988,
          1988,
          1988,
          1989,
          1989,
          1989,
          1989,
          1989,
          1989,
          1989,
          1989,
          1989,
          1989,
          1989,
          1989,
          1990,
          1990,
          1990,
          1990,
          1990,
          1990,
          1990,
          1990,
          1990,
          1990,
          1990,
          1990,
          1991,
          1991,
          1991,
          1991,
          1991,
          1991,
          1991,
          1991,
          1991,
          1991,
          1991,
          1991,
          1992,
          1992,
          1992,
          1992,
          1992,
          1992,
          1992,
          1992,
          1992,
          1992,
          1992,
          1992,
          1993,
          1993,
          1993,
          1993,
          1993,
          1993,
          1993,
          1993,
          1993,
          1993,
          1993,
          1993,
          1994,
          1994,
          1994,
          1994,
          1994,
          1994,
          1994,
          1994,
          1994,
          1994,
          1994,
          1994,
          1995,
          1995,
          1995,
          1995,
          1995,
          1995,
          1995,
          1995,
          1995,
          1995,
          1995,
          1995,
          1996,
          1996,
          1996,
          1996,
          1996,
          1996,
          1996,
          1996,
          1996,
          1996,
          1996,
          1996,
          1997,
          1997,
          1997,
          1997,
          1997,
          1997,
          1997,
          1997,
          1997,
          1997,
          1997,
          1997,
          1998,
          1998,
          1998,
          1998,
          1998,
          1998,
          1998,
          1998,
          1998,
          1998,
          1998,
          1998,
          1999,
          1999,
          1999,
          1999,
          1999,
          1999,
          1999,
          1999,
          1999,
          1999,
          1999,
          1999,
          2000,
          2000,
          2000,
          2000,
          2000,
          2000,
          2000,
          2000,
          2000,
          2000,
          2000,
          2000,
          2001,
          2001,
          2001,
          2001,
          2001,
          2001,
          2001,
          2001,
          2001,
          2001,
          2001,
          2001,
          2002,
          2002,
          2002,
          2002,
          2002,
          2002,
          2002,
          2002,
          2002,
          2002,
          2002,
          2002,
          2003,
          2003,
          2003,
          2003,
          2003,
          2003,
          2003,
          2003,
          2003,
          2003,
          2003,
          2003,
          2004,
          2004,
          2004,
          2004,
          2004,
          2004,
          2004,
          2004,
          2004,
          2004,
          2004,
          2004,
          2005,
          2005,
          2005,
          2005,
          2005,
          2005,
          2005,
          2005,
          2005,
          2005,
          2005,
          2005,
          2006,
          2006,
          2006,
          2006,
          2006,
          2006,
          2006,
          2006,
          2006,
          2006,
          2006,
          2006,
          2007,
          2007,
          2007,
          2007,
          2007,
          2007,
          2007,
          2007,
          2007,
          2007,
          2007,
          2007,
          2008,
          2008,
          2008,
          2008,
          2008,
          2008,
          2008,
          2008,
          2008,
          2008,
          2008,
          2008,
          2009,
          2009,
          2009,
          2009,
          2009,
          2009,
          2009,
          2009,
          2009,
          2009,
          2009,
          2009,
          2010,
          2010,
          2010,
          2010,
          2010,
          2010,
          2010,
          2010,
          2010,
          2010,
          2010,
          2010,
          2011,
          2011,
          2011,
          2011,
          2011,
          2011,
          2011,
          2011,
          2011,
          2011,
          2011,
          2011,
          2012,
          2012,
          2012,
          2012,
          2012,
          2012,
          2012,
          2012,
          2012,
          2012,
          2012,
          2012,
          2013,
          2013,
          2013,
          2013,
          2013,
          2013,
          2013,
          2013,
          2013,
          2013,
          2013,
          2013,
          2014,
          2014,
          2014,
          2014,
          2014,
          2014,
          2014,
          2014,
          2014,
          2014,
          2014,
          2014,
          2015,
          2015,
          2015,
          2015,
          2015,
          2015,
          2015,
          2015,
          2015,
          2015,
          2015,
          2015,
          2016,
          2016,
          2016,
          2016,
          2016,
          2016,
          2016,
          2016,
          2016,
          2016,
          2016,
          2016,
          2017,
          2017,
          2017,
          2017,
          2017,
          2017,
          2017,
          2017,
          2017,
          2017,
          2017,
          2017,
          2018,
          2018,
          2018,
          2018,
          2018,
          2018,
          2018,
          2018,
          2018,
          2018,
          2018,
          2018,
          2019,
          2019,
          2019,
          2019,
          2019,
          2019,
          2019,
          2019,
          2019,
          2019,
          2019,
          2019,
          2020,
          2020,
          2020,
          2020,
          2020,
          2020,
          2020,
          2020,
          2020,
          2020,
          2020,
          2020,
          2021,
          2021,
          2021,
          2021,
          2021,
          2021,
          2021,
          2021,
          2021,
          2021,
          2021
         ],
         "y": [
          524295,
          524295,
          524295,
          524295,
          524295,
          524295,
          524295,
          524295,
          524295,
          524295,
          524295,
          524295,
          595014,
          595014,
          595014,
          595014,
          595014,
          595014,
          595014,
          595014,
          595014,
          595014,
          595014,
          595014,
          533624,
          533624,
          533624,
          533624,
          533624,
          533624,
          533624,
          533624,
          533624,
          533624,
          533624,
          533624,
          550052,
          550052,
          550052,
          550052,
          550052,
          550052,
          550052,
          550052,
          550052,
          550052,
          550052,
          550052,
          541811,
          541811,
          541811,
          541811,
          541811,
          541811,
          541811,
          541811,
          541811,
          541811,
          541811,
          541811,
          568149,
          568149,
          568149,
          568149,
          568149,
          568149,
          568149,
          568149,
          568149,
          568149,
          568149,
          568149,
          600027,
          600027,
          600027,
          600027,
          600027,
          600027,
          600027,
          600027,
          600027,
          600027,
          600027,
          600027,
          599889,
          599889,
          599889,
          599889,
          599889,
          599889,
          599889,
          599889,
          599889,
          599889,
          599889,
          599889,
          641346,
          641346,
          641346,
          641346,
          641346,
          641346,
          641346,
          641346,
          641346,
          641346,
          641346,
          641346,
          1090172,
          1090172,
          1090172,
          1090172,
          1090172,
          1090172,
          1090172,
          1090172,
          1090172,
          1090172,
          1090172,
          1090172,
          1535872,
          1535872,
          1535872,
          1535872,
          1535872,
          1535872,
          1535872,
          1535872,
          1535872,
          1535872,
          1535872,
          1535872,
          1826595,
          1826595,
          1826595,
          1826595,
          1826595,
          1826595,
          1826595,
          1826595,
          1826595,
          1826595,
          1826595,
          1826595,
          973445,
          973445,
          973445,
          973445,
          973445,
          973445,
          973445,
          973445,
          973445,
          973445,
          973445,
          973445,
          903916,
          903916,
          903916,
          903916,
          903916,
          903916,
          903916,
          903916,
          903916,
          903916,
          903916,
          903916,
          803993,
          803993,
          803993,
          803993,
          803993,
          803993,
          803993,
          803993,
          803993,
          803993,
          803993,
          803993,
          720177,
          720177,
          720177,
          720177,
          720177,
          720177,
          720177,
          720177,
          720177,
          720177,
          720177,
          720177,
          915560,
          915560,
          915560,
          915560,
          915560,
          915560,
          915560,
          915560,
          915560,
          915560,
          915560,
          915560,
          797847,
          797847,
          797847,
          797847,
          797847,
          797847,
          797847,
          797847,
          797847,
          797847,
          797847,
          797847,
          653206,
          653206,
          653206,
          653206,
          653206,
          653206,
          653206,
          653206,
          653206,
          653206,
          653206,
          653206,
          644787,
          644787,
          644787,
          644787,
          644787,
          644787,
          644787,
          644787,
          644787,
          644787,
          644787,
          644787,
          841002,
          841002,
          841002,
          841002,
          841002,
          841002,
          841002,
          841002,
          841002,
          841002,
          841002,
          841002,
          1058902,
          1058902,
          1058902,
          1058902,
          1058902,
          1058902,
          1058902,
          1058902,
          1058902,
          1058902,
          1058902,
          1058902,
          1059356,
          1059356,
          1059356,
          1059356,
          1059356,
          1059356,
          1059356,
          1059356,
          1059356,
          1059356,
          1059356,
          1059356,
          703542,
          703542,
          703542,
          703542,
          703542,
          703542,
          703542,
          703542,
          703542,
          703542,
          703542,
          703542,
          957883,
          957883,
          957883,
          957883,
          957883,
          957883,
          957883,
          957883,
          957883,
          957883,
          957883,
          957883,
          1122257,
          1122257,
          1122257,
          1122257,
          1122257,
          1122257,
          1122257,
          1122257,
          1122257,
          1122257,
          1122257,
          1122257,
          1266129,
          1266129,
          1266129,
          1266129,
          1266129,
          1266129,
          1266129,
          1266129,
          1266129,
          1266129,
          1266129,
          1266129,
          1052415,
          1052415,
          1052415,
          1052415,
          1052415,
          1052415,
          1052415,
          1052415,
          1052415,
          1052415,
          1052415,
          1052415,
          1107126,
          1107126,
          1107126,
          1107126,
          1107126,
          1107126,
          1107126,
          1107126,
          1107126,
          1107126,
          1107126,
          1107126,
          1130818,
          1130818,
          1130818,
          1130818,
          1130818,
          1130818,
          1130818,
          1130818,
          1130818,
          1130818,
          1130818,
          1130818,
          1042625,
          1042625,
          1042625,
          1042625,
          1042625,
          1042625,
          1042625,
          1042625,
          1042625,
          1042625,
          1042625,
          1042625,
          1062040,
          1062040,
          1062040,
          1062040,
          1062040,
          1062040,
          1062040,
          1062040,
          1062040,
          1062040,
          1062040,
          1062040,
          1031631,
          1031631,
          1031631,
          1031631,
          1031631,
          1031631,
          1031631,
          1031631,
          1031631,
          1031631,
          1031631,
          1031631,
          990553,
          990553,
          990553,
          990553,
          990553,
          990553,
          990553,
          990553,
          990553,
          990553,
          990553,
          990553,
          1016518,
          1016518,
          1016518,
          1016518,
          1016518,
          1016518,
          1016518,
          1016518,
          1016518,
          1016518,
          1016518,
          1016518,
          1051031,
          1051031,
          1051031,
          1051031,
          1051031,
          1051031,
          1051031,
          1051031,
          1051031,
          1051031,
          1051031,
          1051031,
          1183505,
          1183505,
          1183505,
          1183505,
          1183505,
          1183505,
          1183505,
          1183505,
          1183505,
          1183505,
          1183505,
          1183505,
          1127167,
          1127167,
          1127167,
          1127167,
          1127167,
          1127167,
          1127167,
          1127167,
          1127167,
          1127167,
          1127167,
          1127167,
          1096611,
          1096611,
          1096611,
          1096611,
          1096611,
          1096611,
          1096611,
          1096611,
          1096611,
          1096611,
          1096611,
          1096611,
          1031765,
          1031765,
          1031765,
          1031765,
          1031765,
          1031765,
          1031765,
          1031765,
          1031765,
          1031765,
          1031765,
          1031765,
          707362,
          707362,
          707362,
          707362,
          707362,
          707362,
          707362,
          707362,
          707362,
          707362,
          707362,
          707362,
          740002,
          740002,
          740002,
          740002,
          740002,
          740002,
          740002,
          740002,
          740002,
          740002,
          740002
         ],
         "yaxis": "y"
        },
        {
         "mode": "lines+markers",
         "name": "Illegal Immigrants",
         "type": "scatter",
         "x": [
          1980,
          1980,
          1980,
          1980,
          1980,
          1980,
          1980,
          1980,
          1980,
          1980,
          1980,
          1980,
          1981,
          1981,
          1981,
          1981,
          1981,
          1981,
          1981,
          1981,
          1981,
          1981,
          1981,
          1981,
          1982,
          1982,
          1982,
          1982,
          1982,
          1982,
          1982,
          1982,
          1982,
          1982,
          1982,
          1982,
          1983,
          1983,
          1983,
          1983,
          1983,
          1983,
          1983,
          1983,
          1983,
          1983,
          1983,
          1983,
          1984,
          1984,
          1984,
          1984,
          1984,
          1984,
          1984,
          1984,
          1984,
          1984,
          1984,
          1984,
          1985,
          1985,
          1985,
          1985,
          1985,
          1985,
          1985,
          1985,
          1985,
          1985,
          1985,
          1985,
          1986,
          1986,
          1986,
          1986,
          1986,
          1986,
          1986,
          1986,
          1986,
          1986,
          1986,
          1986,
          1987,
          1987,
          1987,
          1987,
          1987,
          1987,
          1987,
          1987,
          1987,
          1987,
          1987,
          1987,
          1988,
          1988,
          1988,
          1988,
          1988,
          1988,
          1988,
          1988,
          1988,
          1988,
          1988,
          1988,
          1989,
          1989,
          1989,
          1989,
          1989,
          1989,
          1989,
          1989,
          1989,
          1989,
          1989,
          1989,
          1990,
          1990,
          1990,
          1990,
          1990,
          1990,
          1990,
          1990,
          1990,
          1990,
          1990,
          1990,
          1991,
          1991,
          1991,
          1991,
          1991,
          1991,
          1991,
          1991,
          1991,
          1991,
          1991,
          1991,
          1992,
          1992,
          1992,
          1992,
          1992,
          1992,
          1992,
          1992,
          1992,
          1992,
          1992,
          1992,
          1993,
          1993,
          1993,
          1993,
          1993,
          1993,
          1993,
          1993,
          1993,
          1993,
          1993,
          1993,
          1994,
          1994,
          1994,
          1994,
          1994,
          1994,
          1994,
          1994,
          1994,
          1994,
          1994,
          1994,
          1995,
          1995,
          1995,
          1995,
          1995,
          1995,
          1995,
          1995,
          1995,
          1995,
          1995,
          1995,
          1996,
          1996,
          1996,
          1996,
          1996,
          1996,
          1996,
          1996,
          1996,
          1996,
          1996,
          1996,
          1997,
          1997,
          1997,
          1997,
          1997,
          1997,
          1997,
          1997,
          1997,
          1997,
          1997,
          1997,
          1998,
          1998,
          1998,
          1998,
          1998,
          1998,
          1998,
          1998,
          1998,
          1998,
          1998,
          1998,
          1999,
          1999,
          1999,
          1999,
          1999,
          1999,
          1999,
          1999,
          1999,
          1999,
          1999,
          1999,
          2000,
          2000,
          2000,
          2000,
          2000,
          2000,
          2000,
          2000,
          2000,
          2000,
          2000,
          2000,
          2001,
          2001,
          2001,
          2001,
          2001,
          2001,
          2001,
          2001,
          2001,
          2001,
          2001,
          2001,
          2002,
          2002,
          2002,
          2002,
          2002,
          2002,
          2002,
          2002,
          2002,
          2002,
          2002,
          2002,
          2003,
          2003,
          2003,
          2003,
          2003,
          2003,
          2003,
          2003,
          2003,
          2003,
          2003,
          2003,
          2004,
          2004,
          2004,
          2004,
          2004,
          2004,
          2004,
          2004,
          2004,
          2004,
          2004,
          2004,
          2005,
          2005,
          2005,
          2005,
          2005,
          2005,
          2005,
          2005,
          2005,
          2005,
          2005,
          2005,
          2006,
          2006,
          2006,
          2006,
          2006,
          2006,
          2006,
          2006,
          2006,
          2006,
          2006,
          2006,
          2007,
          2007,
          2007,
          2007,
          2007,
          2007,
          2007,
          2007,
          2007,
          2007,
          2007,
          2007,
          2008,
          2008,
          2008,
          2008,
          2008,
          2008,
          2008,
          2008,
          2008,
          2008,
          2008,
          2008,
          2009,
          2009,
          2009,
          2009,
          2009,
          2009,
          2009,
          2009,
          2009,
          2009,
          2009,
          2009,
          2010,
          2010,
          2010,
          2010,
          2010,
          2010,
          2010,
          2010,
          2010,
          2010,
          2010,
          2010,
          2011,
          2011,
          2011,
          2011,
          2011,
          2011,
          2011,
          2011,
          2011,
          2011,
          2011,
          2011,
          2012,
          2012,
          2012,
          2012,
          2012,
          2012,
          2012,
          2012,
          2012,
          2012,
          2012,
          2012,
          2013,
          2013,
          2013,
          2013,
          2013,
          2013,
          2013,
          2013,
          2013,
          2013,
          2013,
          2013,
          2014,
          2014,
          2014,
          2014,
          2014,
          2014,
          2014,
          2014,
          2014,
          2014,
          2014,
          2014,
          2015,
          2015,
          2015,
          2015,
          2015,
          2015,
          2015,
          2015,
          2015,
          2015,
          2015,
          2015,
          2016,
          2016,
          2016,
          2016,
          2016,
          2016,
          2016,
          2016,
          2016,
          2016,
          2016,
          2016,
          2017,
          2017,
          2017,
          2017,
          2017,
          2017,
          2017,
          2017,
          2017,
          2017,
          2017,
          2017,
          2018,
          2018,
          2018,
          2018,
          2018,
          2018,
          2018,
          2018,
          2018,
          2018,
          2018,
          2018,
          2019,
          2019,
          2019,
          2019,
          2019,
          2019,
          2019,
          2019,
          2019,
          2019,
          2019,
          2019,
          2020,
          2020,
          2020,
          2020,
          2020,
          2020,
          2020,
          2020,
          2020,
          2020,
          2020,
          2020,
          2021,
          2021,
          2021,
          2021,
          2021,
          2021,
          2021,
          2021,
          2021,
          2021,
          2021
         ],
         "y": [
          910361,
          910361,
          910361,
          910361,
          910361,
          910361,
          910361,
          910361,
          910361,
          910361,
          910361,
          910361,
          975780,
          975780,
          975780,
          975780,
          975780,
          975780,
          975780,
          975780,
          975780,
          975780,
          975780,
          975780,
          970246,
          970246,
          970246,
          970246,
          970246,
          970246,
          970246,
          970246,
          970246,
          970246,
          970246,
          970246,
          1251357,
          1251357,
          1251357,
          1251357,
          1251357,
          1251357,
          1251357,
          1251357,
          1251357,
          1251357,
          1251357,
          1251357,
          1246981,
          1246981,
          1246981,
          1246981,
          1246981,
          1246981,
          1246981,
          1246981,
          1246981,
          1246981,
          1246981,
          1246981,
          1348749,
          1348749,
          1348749,
          1348749,
          1348749,
          1348749,
          1348749,
          1348749,
          1348749,
          1348749,
          1348749,
          1348749,
          1767400,
          1767400,
          1767400,
          1767400,
          1767400,
          1767400,
          1767400,
          1767400,
          1767400,
          1767400,
          1767400,
          1767400,
          1190488,
          1190488,
          1190488,
          1190488,
          1190488,
          1190488,
          1190488,
          1190488,
          1190488,
          1190488,
          1190488,
          1190488,
          1008145,
          1008145,
          1008145,
          1008145,
          1008145,
          1008145,
          1008145,
          1008145,
          1008145,
          1008145,
          1008145,
          1008145,
          954243,
          954243,
          954243,
          954243,
          954243,
          954243,
          954243,
          954243,
          954243,
          954243,
          954243,
          954243,
          1169939,
          1169939,
          1169939,
          1169939,
          1169939,
          1169939,
          1169939,
          1169939,
          1169939,
          1169939,
          1169939,
          1169939,
          1197875,
          1197875,
          1197875,
          1197875,
          1197875,
          1197875,
          1197875,
          1197875,
          1197875,
          1197875,
          1197875,
          1197875,
          1258481,
          1258481,
          1258481,
          1258481,
          1258481,
          1258481,
          1258481,
          1258481,
          1258481,
          1258481,
          1258481,
          1258481,
          1327261,
          1327261,
          1327261,
          1327261,
          1327261,
          1327261,
          1327261,
          1327261,
          1327261,
          1327261,
          1327261,
          1327261,
          1094719,
          1094719,
          1094719,
          1094719,
          1094719,
          1094719,
          1094719,
          1094719,
          1094719,
          1094719,
          1094719,
          1094719,
          1394554,
          1394554,
          1394554,
          1394554,
          1394554,
          1394554,
          1394554,
          1394554,
          1394554,
          1394554,
          1394554,
          1394554,
          1649986,
          1649986,
          1649986,
          1649986,
          1649986,
          1649986,
          1649986,
          1649986,
          1649986,
          1649986,
          1649986,
          1649986,
          1536520,
          1536520,
          1536520,
          1536520,
          1536520,
          1536520,
          1536520,
          1536520,
          1536520,
          1536520,
          1536520,
          1536520,
          1679439,
          1679439,
          1679439,
          1679439,
          1679439,
          1679439,
          1679439,
          1679439,
          1679439,
          1679439,
          1679439,
          1679439,
          1714035,
          1714035,
          1714035,
          1714035,
          1714035,
          1714035,
          1714035,
          1714035,
          1714035,
          1714035,
          1714035,
          1714035,
          1814729,
          1814729,
          1814729,
          1814729,
          1814729,
          1814729,
          1814729,
          1814729,
          1814729,
          1814729,
          1814729,
          1814729,
          1387486,
          1387486,
          1387486,
          1387486,
          1387486,
          1387486,
          1387486,
          1387486,
          1387486,
          1387486,
          1387486,
          1387486,
          1062270,
          1062270,
          1062270,
          1062270,
          1062270,
          1062270,
          1062270,
          1062270,
          1062270,
          1062270,
          1062270,
          1062270,
          1046422,
          1046422,
          1046422,
          1046422,
          1046422,
          1046422,
          1046422,
          1046422,
          1046422,
          1046422,
          1046422,
          1046422,
          1264232,
          1264232,
          1264232,
          1264232,
          1264232,
          1264232,
          1264232,
          1264232,
          1264232,
          1264232,
          1264232,
          1264232,
          1291065,
          1291065,
          1291065,
          1291065,
          1291065,
          1291065,
          1291065,
          1291065,
          1291065,
          1291065,
          1291065,
          1291065,
          1206408,
          1206408,
          1206408,
          1206408,
          1206408,
          1206408,
          1206408,
          1206408,
          1206408,
          1206408,
          1206408,
          1206408,
          960673,
          960673,
          960673,
          960673,
          960673,
          960673,
          960673,
          960673,
          960673,
          960673,
          960673,
          960673,
          1043759,
          1043759,
          1043759,
          1043759,
          1043759,
          1043759,
          1043759,
          1043759,
          1043759,
          1043759,
          1043759,
          1043759,
          889212,
          889212,
          889212,
          889212,
          889212,
          889212,
          889212,
          889212,
          889212,
          889212,
          889212,
          889212,
          796587,
          796587,
          796587,
          796587,
          796587,
          796587,
          796587,
          796587,
          796587,
          796587,
          796587,
          796587,
          678606,
          678606,
          678606,
          678606,
          678606,
          678606,
          678606,
          678606,
          678606,
          678606,
          678606,
          678606,
          795735,
          795735,
          795735,
          795735,
          795735,
          795735,
          795735,
          795735,
          795735,
          795735,
          795735,
          795735,
          786223,
          786223,
          786223,
          786223,
          786223,
          786223,
          786223,
          786223,
          786223,
          786223,
          786223,
          786223,
          805334,
          805334,
          805334,
          805334,
          805334,
          805334,
          805334,
          805334,
          805334,
          805334,
          805334,
          805334,
          596560,
          596560,
          596560,
          596560,
          596560,
          596560,
          596560,
          596560,
          596560,
          596560,
          596560,
          596560,
          683782,
          683782,
          683782,
          683782,
          683782,
          683782,
          683782,
          683782,
          683782,
          683782,
          683782,
          683782,
          607677,
          607677,
          607677,
          607677,
          607677,
          607677,
          607677,
          607677,
          607677,
          607677,
          607677,
          607677,
          739486,
          739486,
          739486,
          739486,
          739486,
          739486,
          739486,
          739486,
          739486,
          739486,
          739486,
          739486,
          1175841,
          1175841,
          1175841,
          1175841,
          1175841,
          1175841,
          1175841,
          1175841,
          1175841,
          1175841,
          1175841,
          1175841,
          609265,
          609265,
          609265,
          609265,
          609265,
          609265,
          609265,
          609265,
          609265,
          609265,
          609265,
          609265,
          1865379,
          1865379,
          1865379,
          1865379,
          1865379,
          1865379,
          1865379,
          1865379,
          1865379,
          1865379,
          1865379
         ],
         "yaxis": "y2"
        },
        {
         "hovertemplate": "%{x}, %{y:.1f}%",
         "name": "Unemployment Rate",
         "opacity": 0.6,
         "type": "bar",
         "x": [
          1980,
          1980,
          1980,
          1980,
          1980,
          1980,
          1980,
          1980,
          1980,
          1980,
          1980,
          1980,
          1981,
          1981,
          1981,
          1981,
          1981,
          1981,
          1981,
          1981,
          1981,
          1981,
          1981,
          1981,
          1982,
          1982,
          1982,
          1982,
          1982,
          1982,
          1982,
          1982,
          1982,
          1982,
          1982,
          1982,
          1983,
          1983,
          1983,
          1983,
          1983,
          1983,
          1983,
          1983,
          1983,
          1983,
          1983,
          1983,
          1984,
          1984,
          1984,
          1984,
          1984,
          1984,
          1984,
          1984,
          1984,
          1984,
          1984,
          1984,
          1985,
          1985,
          1985,
          1985,
          1985,
          1985,
          1985,
          1985,
          1985,
          1985,
          1985,
          1985,
          1986,
          1986,
          1986,
          1986,
          1986,
          1986,
          1986,
          1986,
          1986,
          1986,
          1986,
          1986,
          1987,
          1987,
          1987,
          1987,
          1987,
          1987,
          1987,
          1987,
          1987,
          1987,
          1987,
          1987,
          1988,
          1988,
          1988,
          1988,
          1988,
          1988,
          1988,
          1988,
          1988,
          1988,
          1988,
          1988,
          1989,
          1989,
          1989,
          1989,
          1989,
          1989,
          1989,
          1989,
          1989,
          1989,
          1989,
          1989,
          1990,
          1990,
          1990,
          1990,
          1990,
          1990,
          1990,
          1990,
          1990,
          1990,
          1990,
          1990,
          1991,
          1991,
          1991,
          1991,
          1991,
          1991,
          1991,
          1991,
          1991,
          1991,
          1991,
          1991,
          1992,
          1992,
          1992,
          1992,
          1992,
          1992,
          1992,
          1992,
          1992,
          1992,
          1992,
          1992,
          1993,
          1993,
          1993,
          1993,
          1993,
          1993,
          1993,
          1993,
          1993,
          1993,
          1993,
          1993,
          1994,
          1994,
          1994,
          1994,
          1994,
          1994,
          1994,
          1994,
          1994,
          1994,
          1994,
          1994,
          1995,
          1995,
          1995,
          1995,
          1995,
          1995,
          1995,
          1995,
          1995,
          1995,
          1995,
          1995,
          1996,
          1996,
          1996,
          1996,
          1996,
          1996,
          1996,
          1996,
          1996,
          1996,
          1996,
          1996,
          1997,
          1997,
          1997,
          1997,
          1997,
          1997,
          1997,
          1997,
          1997,
          1997,
          1997,
          1997,
          1998,
          1998,
          1998,
          1998,
          1998,
          1998,
          1998,
          1998,
          1998,
          1998,
          1998,
          1998,
          1999,
          1999,
          1999,
          1999,
          1999,
          1999,
          1999,
          1999,
          1999,
          1999,
          1999,
          1999,
          2000,
          2000,
          2000,
          2000,
          2000,
          2000,
          2000,
          2000,
          2000,
          2000,
          2000,
          2000,
          2001,
          2001,
          2001,
          2001,
          2001,
          2001,
          2001,
          2001,
          2001,
          2001,
          2001,
          2001,
          2002,
          2002,
          2002,
          2002,
          2002,
          2002,
          2002,
          2002,
          2002,
          2002,
          2002,
          2002,
          2003,
          2003,
          2003,
          2003,
          2003,
          2003,
          2003,
          2003,
          2003,
          2003,
          2003,
          2003,
          2004,
          2004,
          2004,
          2004,
          2004,
          2004,
          2004,
          2004,
          2004,
          2004,
          2004,
          2004,
          2005,
          2005,
          2005,
          2005,
          2005,
          2005,
          2005,
          2005,
          2005,
          2005,
          2005,
          2005,
          2006,
          2006,
          2006,
          2006,
          2006,
          2006,
          2006,
          2006,
          2006,
          2006,
          2006,
          2006,
          2007,
          2007,
          2007,
          2007,
          2007,
          2007,
          2007,
          2007,
          2007,
          2007,
          2007,
          2007,
          2008,
          2008,
          2008,
          2008,
          2008,
          2008,
          2008,
          2008,
          2008,
          2008,
          2008,
          2008,
          2009,
          2009,
          2009,
          2009,
          2009,
          2009,
          2009,
          2009,
          2009,
          2009,
          2009,
          2009,
          2010,
          2010,
          2010,
          2010,
          2010,
          2010,
          2010,
          2010,
          2010,
          2010,
          2010,
          2010,
          2011,
          2011,
          2011,
          2011,
          2011,
          2011,
          2011,
          2011,
          2011,
          2011,
          2011,
          2011,
          2012,
          2012,
          2012,
          2012,
          2012,
          2012,
          2012,
          2012,
          2012,
          2012,
          2012,
          2012,
          2013,
          2013,
          2013,
          2013,
          2013,
          2013,
          2013,
          2013,
          2013,
          2013,
          2013,
          2013,
          2014,
          2014,
          2014,
          2014,
          2014,
          2014,
          2014,
          2014,
          2014,
          2014,
          2014,
          2014,
          2015,
          2015,
          2015,
          2015,
          2015,
          2015,
          2015,
          2015,
          2015,
          2015,
          2015,
          2015,
          2016,
          2016,
          2016,
          2016,
          2016,
          2016,
          2016,
          2016,
          2016,
          2016,
          2016,
          2016,
          2017,
          2017,
          2017,
          2017,
          2017,
          2017,
          2017,
          2017,
          2017,
          2017,
          2017,
          2017,
          2018,
          2018,
          2018,
          2018,
          2018,
          2018,
          2018,
          2018,
          2018,
          2018,
          2018,
          2018,
          2019,
          2019,
          2019,
          2019,
          2019,
          2019,
          2019,
          2019,
          2019,
          2019,
          2019,
          2019,
          2020,
          2020,
          2020,
          2020,
          2020,
          2020,
          2020,
          2020,
          2020,
          2020,
          2020,
          2020,
          2021,
          2021,
          2021,
          2021,
          2021,
          2021,
          2021,
          2021,
          2021,
          2021,
          2021
         ],
         "y": [
          6.9,
          6.8,
          6.6,
          6.7,
          7.1,
          7.8,
          7.9,
          7.6,
          7.2,
          7.1,
          7.1,
          6.9,
          8.2,
          8,
          7.7,
          7,
          7.1,
          7.7,
          7.3,
          7.2,
          7.3,
          7.5,
          7.9,
          8.3,
          9.4,
          9.6,
          9.5,
          9.2,
          9.1,
          9.8,
          9.8,
          9.6,
          9.7,
          9.9,
          10.4,
          10.5,
          11.4,
          11.3,
          10.8,
          10,
          9.8,
          10.2,
          9.4,
          9.2,
          8.8,
          8.4,
          8.1,
          8,
          8.8,
          8.4,
          8.1,
          7.6,
          7.2,
          7.4,
          7.5,
          7.3,
          7.1,
          7,
          6.9,
          7,
          8,
          7.8,
          7.5,
          7.1,
          7,
          7.5,
          7.4,
          6.9,
          6.9,
          6.8,
          6.7,
          6.7,
          7.3,
          7.8,
          7.5,
          7,
          7,
          7.3,
          7,
          6.7,
          6.8,
          6.6,
          6.6,
          6.3,
          7.3,
          7.2,
          6.9,
          6.2,
          6.1,
          6.3,
          6.1,
          5.8,
          5.7,
          5.7,
          5.6,
          5.4,
          6.3,
          6.2,
          5.9,
          5.3,
          5.4,
          5.5,
          5.5,
          5.4,
          5.2,
          5,
          5.2,
          5,
          6,
          5.6,
          5.2,
          5.1,
          5,
          5.5,
          5.3,
          5.1,
          5.1,
          5,
          5.2,
          5.1,
          6,
          5.9,
          5.5,
          5.3,
          5.2,
          5.4,
          5.6,
          5.5,
          5.6,
          5.5,
          5.9,
          6,
          7.1,
          7.3,
          7.2,
          6.5,
          6.7,
          7,
          6.8,
          6.6,
          6.5,
          6.5,
          6.7,
          6.9,
          8.1,
          8.2,
          7.8,
          7.2,
          7.3,
          8,
          7.7,
          7.4,
          7.3,
          6.9,
          7.1,
          7.1,
          8,
          7.8,
          7.4,
          6.9,
          6.8,
          7.2,
          7,
          6.6,
          6.4,
          6.4,
          6.2,
          6.1,
          7.3,
          7.1,
          6.8,
          6.2,
          5.9,
          6.2,
          6.2,
          5.9,
          5.6,
          5.4,
          5.3,
          5.1,
          6.2,
          5.9,
          5.7,
          5.6,
          5.5,
          5.8,
          5.9,
          5.6,
          5.4,
          5.2,
          5.3,
          5.2,
          6.3,
          6,
          5.8,
          5.4,
          5.4,
          5.5,
          5.6,
          5.1,
          5,
          4.9,
          5,
          5,
          5.9,
          5.7,
          5.5,
          4.8,
          4.7,
          5.2,
          5,
          4.8,
          4.7,
          4.4,
          4.3,
          4.4,
          5.2,
          5,
          5,
          4.1,
          4.2,
          4.7,
          4.7,
          4.5,
          4.4,
          4.2,
          4.1,
          4,
          4.8,
          4.7,
          4.4,
          4.1,
          4,
          4.5,
          4.5,
          4.2,
          4.1,
          3.8,
          3.8,
          3.7,
          4.5,
          4.4,
          4.3,
          3.7,
          3.8,
          4.1,
          4.2,
          4.1,
          3.8,
          3.6,
          3.7,
          3.7,
          4.7,
          4.6,
          4.5,
          4.2,
          4.1,
          4.7,
          4.7,
          4.9,
          4.7,
          5,
          5.3,
          5.4,
          6.3,
          6.1,
          6.1,
          5.7,
          5.5,
          6,
          5.9,
          5.7,
          5.4,
          5.3,
          5.6,
          5.7,
          6.5,
          6.4,
          6.2,
          5.8,
          5.8,
          6.5,
          6.3,
          6,
          5.8,
          5.6,
          5.6,
          5.4,
          6.3,
          6,
          6,
          5.4,
          5.3,
          5.8,
          5.7,
          5.4,
          5.1,
          5.1,
          5.2,
          5.1,
          5.7,
          5.8,
          5.4,
          4.9,
          4.9,
          5.2,
          5.2,
          4.9,
          4.8,
          4.6,
          4.8,
          4.6,
          5.1,
          5.1,
          4.8,
          4.5,
          4.4,
          4.8,
          5,
          4.6,
          4.4,
          4.1,
          4.3,
          4.3,
          5,
          4.9,
          4.5,
          4.3,
          4.3,
          4.7,
          4.9,
          4.6,
          4.5,
          4.4,
          4.5,
          4.8,
          5.4,
          5.2,
          5.2,
          4.8,
          5.2,
          5.7,
          6,
          6.1,
          6,
          6.1,
          6.5,
          7.1,
          8.5,
          8.9,
          9,
          8.6,
          9.1,
          9.7,
          9.7,
          9.6,
          9.5,
          9.5,
          9.4,
          9.7,
          10.6,
          10.4,
          10.2,
          9.5,
          9.3,
          9.6,
          9.7,
          9.5,
          9.2,
          9,
          9.3,
          9.1,
          9.8,
          9.5,
          9.2,
          8.7,
          8.7,
          9.3,
          9.3,
          9.1,
          8.8,
          8.5,
          8.2,
          8.3,
          8.8,
          8.7,
          8.4,
          7.7,
          7.9,
          8.4,
          8.6,
          8.2,
          7.6,
          7.5,
          7.4,
          7.6,
          8.5,
          8.1,
          7.6,
          7.1,
          7.3,
          7.8,
          7.7,
          7.3,
          7,
          7,
          6.6,
          6.5,
          7,
          7,
          6.8,
          5.9,
          6.1,
          6.3,
          6.5,
          6.3,
          5.7,
          5.5,
          5.5,
          5.4,
          6.1,
          5.8,
          5.6,
          5.1,
          5.3,
          5.5,
          5.6,
          5.2,
          4.9,
          4.8,
          4.8,
          4.8,
          5.3,
          5.2,
          5.1,
          4.7,
          4.5,
          5.1,
          5.1,
          5,
          4.8,
          4.7,
          4.4,
          4.5,
          5.1,
          4.9,
          4.6,
          4.1,
          4.1,
          4.5,
          4.6,
          4.5,
          4.1,
          3.9,
          3.9,
          3.9,
          4.5,
          4.4,
          4.1,
          3.7,
          3.6,
          4.2,
          4.1,
          3.9,
          3.6,
          3.5,
          3.5,
          3.7,
          4.4,
          4.1,
          3.9,
          3.3,
          3.4,
          3.8,
          4,
          3.8,
          3.3,
          3.3,
          3.3,
          3.4,
          4,
          3.8,
          4.5,
          14.4,
          13,
          11.2,
          10.5,
          8.5,
          7.7,
          6.6,
          6.4,
          6.5,
          6.8,
          6.6,
          6.2,
          5.7,
          5.5,
          6.1,
          5.7,
          5.3,
          4.6,
          4.3,
          3.9
         ],
         "yaxis": "y3"
        }
       ],
       "layout": {
        "height": 600,
        "legend": {
         "x": 0,
         "y": 1.1
        },
        "template": {
         "data": {
          "bar": [
           {
            "error_x": {
             "color": "#2a3f5f"
            },
            "error_y": {
             "color": "#2a3f5f"
            },
            "marker": {
             "line": {
              "color": "#E5ECF6",
              "width": 0.5
             },
             "pattern": {
              "fillmode": "overlay",
              "size": 10,
              "solidity": 0.2
             }
            },
            "type": "bar"
           }
          ],
          "barpolar": [
           {
            "marker": {
             "line": {
              "color": "#E5ECF6",
              "width": 0.5
             },
             "pattern": {
              "fillmode": "overlay",
              "size": 10,
              "solidity": 0.2
             }
            },
            "type": "barpolar"
           }
          ],
          "carpet": [
           {
            "aaxis": {
             "endlinecolor": "#2a3f5f",
             "gridcolor": "white",
             "linecolor": "white",
             "minorgridcolor": "white",
             "startlinecolor": "#2a3f5f"
            },
            "baxis": {
             "endlinecolor": "#2a3f5f",
             "gridcolor": "white",
             "linecolor": "white",
             "minorgridcolor": "white",
             "startlinecolor": "#2a3f5f"
            },
            "type": "carpet"
           }
          ],
          "choropleth": [
           {
            "colorbar": {
             "outlinewidth": 0,
             "ticks": ""
            },
            "type": "choropleth"
           }
          ],
          "contour": [
           {
            "colorbar": {
             "outlinewidth": 0,
             "ticks": ""
            },
            "colorscale": [
             [
              0,
              "#0d0887"
             ],
             [
              0.1111111111111111,
              "#46039f"
             ],
             [
              0.2222222222222222,
              "#7201a8"
             ],
             [
              0.3333333333333333,
              "#9c179e"
             ],
             [
              0.4444444444444444,
              "#bd3786"
             ],
             [
              0.5555555555555556,
              "#d8576b"
             ],
             [
              0.6666666666666666,
              "#ed7953"
             ],
             [
              0.7777777777777778,
              "#fb9f3a"
             ],
             [
              0.8888888888888888,
              "#fdca26"
             ],
             [
              1,
              "#f0f921"
             ]
            ],
            "type": "contour"
           }
          ],
          "contourcarpet": [
           {
            "colorbar": {
             "outlinewidth": 0,
             "ticks": ""
            },
            "type": "contourcarpet"
           }
          ],
          "heatmap": [
           {
            "colorbar": {
             "outlinewidth": 0,
             "ticks": ""
            },
            "colorscale": [
             [
              0,
              "#0d0887"
             ],
             [
              0.1111111111111111,
              "#46039f"
             ],
             [
              0.2222222222222222,
              "#7201a8"
             ],
             [
              0.3333333333333333,
              "#9c179e"
             ],
             [
              0.4444444444444444,
              "#bd3786"
             ],
             [
              0.5555555555555556,
              "#d8576b"
             ],
             [
              0.6666666666666666,
              "#ed7953"
             ],
             [
              0.7777777777777778,
              "#fb9f3a"
             ],
             [
              0.8888888888888888,
              "#fdca26"
             ],
             [
              1,
              "#f0f921"
             ]
            ],
            "type": "heatmap"
           }
          ],
          "heatmapgl": [
           {
            "colorbar": {
             "outlinewidth": 0,
             "ticks": ""
            },
            "colorscale": [
             [
              0,
              "#0d0887"
             ],
             [
              0.1111111111111111,
              "#46039f"
             ],
             [
              0.2222222222222222,
              "#7201a8"
             ],
             [
              0.3333333333333333,
              "#9c179e"
             ],
             [
              0.4444444444444444,
              "#bd3786"
             ],
             [
              0.5555555555555556,
              "#d8576b"
             ],
             [
              0.6666666666666666,
              "#ed7953"
             ],
             [
              0.7777777777777778,
              "#fb9f3a"
             ],
             [
              0.8888888888888888,
              "#fdca26"
             ],
             [
              1,
              "#f0f921"
             ]
            ],
            "type": "heatmapgl"
           }
          ],
          "histogram": [
           {
            "marker": {
             "pattern": {
              "fillmode": "overlay",
              "size": 10,
              "solidity": 0.2
             }
            },
            "type": "histogram"
           }
          ],
          "histogram2d": [
           {
            "colorbar": {
             "outlinewidth": 0,
             "ticks": ""
            },
            "colorscale": [
             [
              0,
              "#0d0887"
             ],
             [
              0.1111111111111111,
              "#46039f"
             ],
             [
              0.2222222222222222,
              "#7201a8"
             ],
             [
              0.3333333333333333,
              "#9c179e"
             ],
             [
              0.4444444444444444,
              "#bd3786"
             ],
             [
              0.5555555555555556,
              "#d8576b"
             ],
             [
              0.6666666666666666,
              "#ed7953"
             ],
             [
              0.7777777777777778,
              "#fb9f3a"
             ],
             [
              0.8888888888888888,
              "#fdca26"
             ],
             [
              1,
              "#f0f921"
             ]
            ],
            "type": "histogram2d"
           }
          ],
          "histogram2dcontour": [
           {
            "colorbar": {
             "outlinewidth": 0,
             "ticks": ""
            },
            "colorscale": [
             [
              0,
              "#0d0887"
             ],
             [
              0.1111111111111111,
              "#46039f"
             ],
             [
              0.2222222222222222,
              "#7201a8"
             ],
             [
              0.3333333333333333,
              "#9c179e"
             ],
             [
              0.4444444444444444,
              "#bd3786"
             ],
             [
              0.5555555555555556,
              "#d8576b"
             ],
             [
              0.6666666666666666,
              "#ed7953"
             ],
             [
              0.7777777777777778,
              "#fb9f3a"
             ],
             [
              0.8888888888888888,
              "#fdca26"
             ],
             [
              1,
              "#f0f921"
             ]
            ],
            "type": "histogram2dcontour"
           }
          ],
          "mesh3d": [
           {
            "colorbar": {
             "outlinewidth": 0,
             "ticks": ""
            },
            "type": "mesh3d"
           }
          ],
          "parcoords": [
           {
            "line": {
             "colorbar": {
              "outlinewidth": 0,
              "ticks": ""
             }
            },
            "type": "parcoords"
           }
          ],
          "pie": [
           {
            "automargin": true,
            "type": "pie"
           }
          ],
          "scatter": [
           {
            "fillpattern": {
             "fillmode": "overlay",
             "size": 10,
             "solidity": 0.2
            },
            "type": "scatter"
           }
          ],
          "scatter3d": [
           {
            "line": {
             "colorbar": {
              "outlinewidth": 0,
              "ticks": ""
             }
            },
            "marker": {
             "colorbar": {
              "outlinewidth": 0,
              "ticks": ""
             }
            },
            "type": "scatter3d"
           }
          ],
          "scattercarpet": [
           {
            "marker": {
             "colorbar": {
              "outlinewidth": 0,
              "ticks": ""
             }
            },
            "type": "scattercarpet"
           }
          ],
          "scattergeo": [
           {
            "marker": {
             "colorbar": {
              "outlinewidth": 0,
              "ticks": ""
             }
            },
            "type": "scattergeo"
           }
          ],
          "scattergl": [
           {
            "marker": {
             "colorbar": {
              "outlinewidth": 0,
              "ticks": ""
             }
            },
            "type": "scattergl"
           }
          ],
          "scattermapbox": [
           {
            "marker": {
             "colorbar": {
              "outlinewidth": 0,
              "ticks": ""
             }
            },
            "type": "scattermapbox"
           }
          ],
          "scatterpolar": [
           {
            "marker": {
             "colorbar": {
              "outlinewidth": 0,
              "ticks": ""
             }
            },
            "type": "scatterpolar"
           }
          ],
          "scatterpolargl": [
           {
            "marker": {
             "colorbar": {
              "outlinewidth": 0,
              "ticks": ""
             }
            },
            "type": "scatterpolargl"
           }
          ],
          "scatterternary": [
           {
            "marker": {
             "colorbar": {
              "outlinewidth": 0,
              "ticks": ""
             }
            },
            "type": "scatterternary"
           }
          ],
          "surface": [
           {
            "colorbar": {
             "outlinewidth": 0,
             "ticks": ""
            },
            "colorscale": [
             [
              0,
              "#0d0887"
             ],
             [
              0.1111111111111111,
              "#46039f"
             ],
             [
              0.2222222222222222,
              "#7201a8"
             ],
             [
              0.3333333333333333,
              "#9c179e"
             ],
             [
              0.4444444444444444,
              "#bd3786"
             ],
             [
              0.5555555555555556,
              "#d8576b"
             ],
             [
              0.6666666666666666,
              "#ed7953"
             ],
             [
              0.7777777777777778,
              "#fb9f3a"
             ],
             [
              0.8888888888888888,
              "#fdca26"
             ],
             [
              1,
              "#f0f921"
             ]
            ],
            "type": "surface"
           }
          ],
          "table": [
           {
            "cells": {
             "fill": {
              "color": "#EBF0F8"
             },
             "line": {
              "color": "white"
             }
            },
            "header": {
             "fill": {
              "color": "#C8D4E3"
             },
             "line": {
              "color": "white"
             }
            },
            "type": "table"
           }
          ]
         },
         "layout": {
          "annotationdefaults": {
           "arrowcolor": "#2a3f5f",
           "arrowhead": 0,
           "arrowwidth": 1
          },
          "autotypenumbers": "strict",
          "coloraxis": {
           "colorbar": {
            "outlinewidth": 0,
            "ticks": ""
           }
          },
          "colorscale": {
           "diverging": [
            [
             0,
             "#8e0152"
            ],
            [
             0.1,
             "#c51b7d"
            ],
            [
             0.2,
             "#de77ae"
            ],
            [
             0.3,
             "#f1b6da"
            ],
            [
             0.4,
             "#fde0ef"
            ],
            [
             0.5,
             "#f7f7f7"
            ],
            [
             0.6,
             "#e6f5d0"
            ],
            [
             0.7,
             "#b8e186"
            ],
            [
             0.8,
             "#7fbc41"
            ],
            [
             0.9,
             "#4d9221"
            ],
            [
             1,
             "#276419"
            ]
           ],
           "sequential": [
            [
             0,
             "#0d0887"
            ],
            [
             0.1111111111111111,
             "#46039f"
            ],
            [
             0.2222222222222222,
             "#7201a8"
            ],
            [
             0.3333333333333333,
             "#9c179e"
            ],
            [
             0.4444444444444444,
             "#bd3786"
            ],
            [
             0.5555555555555556,
             "#d8576b"
            ],
            [
             0.6666666666666666,
             "#ed7953"
            ],
            [
             0.7777777777777778,
             "#fb9f3a"
            ],
            [
             0.8888888888888888,
             "#fdca26"
            ],
            [
             1,
             "#f0f921"
            ]
           ],
           "sequentialminus": [
            [
             0,
             "#0d0887"
            ],
            [
             0.1111111111111111,
             "#46039f"
            ],
            [
             0.2222222222222222,
             "#7201a8"
            ],
            [
             0.3333333333333333,
             "#9c179e"
            ],
            [
             0.4444444444444444,
             "#bd3786"
            ],
            [
             0.5555555555555556,
             "#d8576b"
            ],
            [
             0.6666666666666666,
             "#ed7953"
            ],
            [
             0.7777777777777778,
             "#fb9f3a"
            ],
            [
             0.8888888888888888,
             "#fdca26"
            ],
            [
             1,
             "#f0f921"
            ]
           ]
          },
          "colorway": [
           "#636efa",
           "#EF553B",
           "#00cc96",
           "#ab63fa",
           "#FFA15A",
           "#19d3f3",
           "#FF6692",
           "#B6E880",
           "#FF97FF",
           "#FECB52"
          ],
          "font": {
           "color": "#2a3f5f"
          },
          "geo": {
           "bgcolor": "white",
           "lakecolor": "white",
           "landcolor": "#E5ECF6",
           "showlakes": true,
           "showland": true,
           "subunitcolor": "white"
          },
          "hoverlabel": {
           "align": "left"
          },
          "hovermode": "closest",
          "mapbox": {
           "style": "light"
          },
          "paper_bgcolor": "white",
          "plot_bgcolor": "#E5ECF6",
          "polar": {
           "angularaxis": {
            "gridcolor": "white",
            "linecolor": "white",
            "ticks": ""
           },
           "bgcolor": "#E5ECF6",
           "radialaxis": {
            "gridcolor": "white",
            "linecolor": "white",
            "ticks": ""
           }
          },
          "scene": {
           "xaxis": {
            "backgroundcolor": "#E5ECF6",
            "gridcolor": "white",
            "gridwidth": 2,
            "linecolor": "white",
            "showbackground": true,
            "ticks": "",
            "zerolinecolor": "white"
           },
           "yaxis": {
            "backgroundcolor": "#E5ECF6",
            "gridcolor": "white",
            "gridwidth": 2,
            "linecolor": "white",
            "showbackground": true,
            "ticks": "",
            "zerolinecolor": "white"
           },
           "zaxis": {
            "backgroundcolor": "#E5ECF6",
            "gridcolor": "white",
            "gridwidth": 2,
            "linecolor": "white",
            "showbackground": true,
            "ticks": "",
            "zerolinecolor": "white"
           }
          },
          "shapedefaults": {
           "line": {
            "color": "#2a3f5f"
           }
          },
          "ternary": {
           "aaxis": {
            "gridcolor": "white",
            "linecolor": "white",
            "ticks": ""
           },
           "baxis": {
            "gridcolor": "white",
            "linecolor": "white",
            "ticks": ""
           },
           "bgcolor": "#E5ECF6",
           "caxis": {
            "gridcolor": "white",
            "linecolor": "white",
            "ticks": ""
           }
          },
          "title": {
           "x": 0.05
          },
          "xaxis": {
           "automargin": true,
           "gridcolor": "white",
           "linecolor": "white",
           "ticks": "",
           "title": {
            "standoff": 15
           },
           "zerolinecolor": "white",
           "zerolinewidth": 2
          },
          "yaxis": {
           "automargin": true,
           "gridcolor": "white",
           "linecolor": "white",
           "ticks": "",
           "title": {
            "standoff": 15
           },
           "zerolinecolor": "white",
           "zerolinewidth": 2
          }
         }
        },
        "title": {
         "text": "Immigration and Unemployment Statistieken"
        },
        "xaxis": {
         "title": {
          "text": "Year"
         }
        },
        "yaxis": {
         "tickfont": {
          "color": "blue"
         },
         "title": {
          "font": {
           "color": "blue"
          },
          "text": "Legal Immigrants"
         }
        },
        "yaxis2": {
         "overlaying": "y",
         "position": 0.98,
         "side": "right",
         "tickfont": {
          "color": "red"
         },
         "title": {
          "font": {
           "color": "red"
          },
          "text": "Illegal Immigrants"
         }
        },
        "yaxis3": {
         "anchor": "free",
         "overlaying": "y",
         "position": 1,
         "side": "right",
         "tickfont": {
          "color": "green"
         },
         "tickformat": ".1f",
         "title": {
          "font": {
           "color": "green"
          },
          "text": "Unemployment Rate (%)"
         }
        }
       }
      }
     },
     "metadata": {},
     "output_type": "display_data"
    }
   ],
   "source": [
    "import pandas as pd\n",
    "import plotly.graph_objects as go\n",
    "\n",
    "\n",
    "immigration_data = pd.read_csv('immigration_statistics_us.csv')\n",
    "unemployment_data = pd.read_csv('unemployment_rate_data.csv')\n",
    "\n",
    "immigration_data = immigration_data.rename(columns={\n",
    "    'ï»¿Year': 'Year',  \n",
    "    'Immigrants Obtaining Lawful Permanent Resident Status': 'Legal_Immigrants',\n",
    "    'Noncitizen Apprehensions': 'Illegal_Immigrants'\n",
    "})\n",
    "\n",
    "unemployment_data = unemployment_data.rename(columns={\n",
    "    'date': 'Year',\n",
    "    'unrate': 'Unemployment_Rate'\n",
    "})\n",
    "\n",
    "\n",
    "unemployment_data['Year'] = pd.to_datetime(unemployment_data['Year']).dt.year\n",
    "\n",
    "\n",
    "immigration_data['Legal_Immigrants'] = immigration_data['Legal_Immigrants'].str.replace(',', '').astype(int)\n",
    "immigration_data['Illegal_Immigrants'] = immigration_data['Illegal_Immigrants'].str.replace(',', '').astype(int)\n",
    "\n",
    "\n",
    "merged_data = pd.merge(immigration_data, unemployment_data, on='Year')\n",
    "\n",
    "\n",
    "fig = go.Figure()\n",
    "\n",
    "\n",
    "fig.add_trace(go.Scatter(\n",
    "    x=merged_data['Year'],\n",
    "    y=merged_data['Legal_Immigrants'],\n",
    "    mode='lines+markers',\n",
    "    name='Legal Immigrants',\n",
    "    yaxis='y1'\n",
    "))\n",
    "\n",
    "fig.add_trace(go.Scatter(\n",
    "    x=merged_data['Year'],\n",
    "    y=merged_data['Illegal_Immigrants'],\n",
    "    mode='lines+markers',\n",
    "    name='Illegal Immigrants',\n",
    "    yaxis='y2'\n",
    "))\n",
    "\n",
    "\n",
    "fig.add_trace(go.Bar(\n",
    "    x=merged_data['Year'],\n",
    "    y=merged_data['Unemployment_Rate'],\n",
    "    name='Unemployment Rate',\n",
    "    yaxis='y3',\n",
    "    opacity=0.6,\n",
    "    hovertemplate='%{x}, %{y:.1f}%' \n",
    "))\n",
    "\n",
    "fig.update_layout(\n",
    "    title='Immigration and Unemployment Statistieken',\n",
    "    xaxis=dict(title='Year'),\n",
    "    yaxis=dict(\n",
    "        title='Legal Immigrants',\n",
    "        titlefont=dict(color='blue'),\n",
    "        tickfont=dict(color='blue')\n",
    "    ),\n",
    "    yaxis2=dict(\n",
    "        title='Illegal Immigrants',\n",
    "        titlefont=dict(color='red'),\n",
    "        tickfont=dict(color='red'),\n",
    "        overlaying='y',\n",
    "        side='right',\n",
    "        position=0.98  \n",
    "    ),\n",
    "    yaxis3=dict(\n",
    "        title='Unemployment Rate (%)',\n",
    "        titlefont=dict(color='green'),\n",
    "        tickfont=dict(color='green'),\n",
    "        tickformat='.1f',  \n",
    "        anchor='free',\n",
    "        overlaying='y',\n",
    "        side='right',\n",
    "        position=1  \n",
    "    ),\n",
    "    legend=dict(x=0, y=1.1),\n",
    "    height=600  \n",
    ")\n",
    "\n",
    "fig.show()\n"
   ]
  },
  {
   "cell_type": "markdown",
   "id": "9dedcdce",
   "metadata": {},
   "source": [
    "Deze grafiek toont de immigratie- en werkloosheidsstatistieken in de Verenigde Staten over meerdere jaren. De x-as geeft het 'Year' aan, terwijl de y-as links het aantal 'Legal Immigrants' weergeeft en de y-as rechts het 'Unemployment Rate (%)'. De grafiek visualiseert 'Legal Immigrants' (blauwe lijn), 'Illegal Immigrants' (rode lijn) en werkloosheidspercentages (groene balken). Het biedt inzicht in trends en fluctuaties door de jaren heen. Het geeft een beeld naar de verbanden tussen immigratie en economische omstandigheden, zoals hoe veranderingen in werkloosheid mogelijk samenhangen met schommelingen in immigratiepatronen."
   ]
  },
  {
   "cell_type": "markdown",
   "id": "9b13775b",
   "metadata": {},
   "source": [
    "### CPI average, immigration rate VS year"
   ]
  },
  {
   "cell_type": "markdown",
   "id": "5d8bc467",
   "metadata": {},
   "source": [
    "Het is het ook belangrijk om te kijken of de koopkracht met de jaren in Amerika misschien beïnvloed is om te kijken of daarin te zien is of er aanzienlijke veranderingen zijn om dit te kunnen koppelen aan hetzelfde jaar waarin veel immigranten zijn gekomen. Dit is om het perspectief te steunen dat immigranten een invloed kunnen hebben op de Amerikaanse economie en koopkracht. Dit kan het perspectief ondersteunen dat immigranten een significante rol spelen in economische dynamieken, zonder dat het minimumloon als enige oorzaak wordt gezien."
   ]
  },
  {
   "cell_type": "code",
   "execution_count": 19,
   "id": "51f0bf6d",
   "metadata": {
    "tags": [
     "hide-input"
    ]
   },
   "outputs": [
    {
     "data": {
      "image/png": "[encoded data removed]",
      "text/plain": [
       "<Figure size 1200x800 with 2 Axes>"
      ]
     },
     "metadata": {},
     "output_type": "display_data"
    }
   ],
   "source": [
    "import pandas as pd\n",
    "import matplotlib.pyplot as plt\n",
    "\n",
    "\n",
    "minimum_wage = pd.read_csv('minimum_wage_us.csv', encoding='ISO-8859-1')\n",
    "immigration_statistics = pd.read_csv('immigration_statistics_us.csv', encoding='ISO-8859-1')\n",
    "\n",
    "\n",
    "immigration_statistics.rename(columns=lambda x: x.strip().replace('\\ufeff', ''), inplace=True)\n",
    "\n",
    "if 'ï»¿Year' in immigration_statistics.columns:\n",
    "    immigration_statistics.rename(columns={'ï»¿Year': 'Year'}, inplace=True)\n",
    "\n",
    "immigration_statistics['Immigrants Obtaining Lawful Permanent Resident Status'] = immigration_statistics['Immigrants Obtaining Lawful Permanent Resident Status'].str.replace(',', '').astype(int)\n",
    "\n",
    "minimum_wage = minimum_wage[['Year', 'Federal.Minimum.Wage', 'CPI.Average']]\n",
    "\n",
    "\n",
    "if 'Year' in immigration_statistics.columns:\n",
    "\n",
    "    merged_data = pd.merge(minimum_wage, immigration_statistics, on='Year')\n",
    "\n",
    "    plt.figure(figsize=(12, 8))\n",
    "    bubble = plt.scatter(merged_data['Year'], merged_data['CPI.Average'], \n",
    "                         s=merged_data['Federal.Minimum.Wage'] * 10, c=merged_data['Immigrants Obtaining Lawful Permanent Resident Status'], \n",
    "                         cmap='viridis', alpha=0.6, edgecolors=\"w\", linewidth=0.5)\n",
    "    plt.colorbar(bubble, label='Immigration')\n",
    "    plt.xlabel('Year')\n",
    "    plt.ylabel('CPI Average')\n",
    "    plt.title('\"CPI Average\", \"immigration rate\" en \"Year\"')\n",
    "    plt.show()"
   ]
  },
  {
   "cell_type": "markdown",
   "id": "bc3dce12",
   "metadata": {},
   "source": [
    "Deze grafiek toont de relatie tussen de \"CPI Average\" (Consumentenprijsindex) en het jaartal op de X-as. De Y-as vertegenwoordigt de \"CPI Average\", variërend van ongeveer 75 tot 250. Elke bubbel representeert een jaar en de kleur van de bubbels staat voor de \"Immigration Rate\" in miljoenen. De kleur van de bubbels varieert van paars (lage immigratie) tot geel (hoge immigratie). Uit de grafiek blijkt dat de \"CPI Average\" over de jaren geleidelijk is gestegen, wat aangeeft dat de inflatie in deze periode toenam. Daarnaast kunnen we zien dat de immigratie varieerde door de jaren heen.\n"
   ]
  },
  {
   "cell_type": "markdown",
   "id": "6a99e971-0701-4889-b1d2-bb31b4c2398f",
   "metadata": {},
   "source": [
    "## Samenvatting"
   ]
  },
  {
   "cell_type": "markdown",
   "id": "10205c29",
   "metadata": {},
   "source": [
    "Het geloof in \"The American Dream\" is er nog altijd bij velen, en zal dus ook de Verenigde Staten in de toekomst te maken hebben met de immigratiestromen. In jaren waar er veel immigratie was, zowel legaal als illegaal, zagen we ook dusdanig geen direct effect op het minimumloon. Als argument voor het perspectief van de bewering dat het algemeen de werkloosheid en koopkracht zal beïnvloeden hebben is er ook naar gekeken. Het blijkt dus ook daaruit dat het verder ook geen invloed heeft op het minimumloon en daarbij ook meegenomen niet op de koopkracht. Met nu het perspectief dat immigranten een betere economie stimuleert met meer bezetting in verschillende baan sectoren, kan worden herleid uit het werkloosheidspercentage. In het jaar 1986 en 1998 zagen we een forse komst van illegale immigranten in Amerika, maar wat bleek in de jaren erna is dat de werkloosheidspercentage ook aanzienlijk verlaagd werd. In de jaren waar het was toegenomen waren ook minder immigranten gekomen en kan dat verklaard worden door onder andere in 2001 met de aanslagen op de Twin Towers en inval in Irak, en 2009 met de financiële crisis met de huizenmarkt en banken in Amerika. Concluderend kan er geen overtuigend verband worden gelegd tussen immigratie naar de Verenigde Staten en een negatieve invloed op de economie. \n",
    "\n",
    "Hoewel er vele visualisaties en verbanden zijn gelegd voor de bewering dat het minimumloon en arbeidsmarkt een verandering zal hebben, zal er nog meer onderzoek moeten worden gedaan op verschillende klassen van huishoudelijke inkomens en minoriteiten die een effect hiervan ervaren om een goede observatie te krijgen hoe immigranten de Verenigde Staten beïnvloedt. De Verenigde Staten zal dus ook altijd het land blijven wat opgebouwd is op immigranten en zal haar bekende slogan “The American Dream” nog in de nabije toekomst niet verliezen.\n"
   ]
  },
  {
   "cell_type": "markdown",
   "id": "3aba0efe",
   "metadata": {},
   "source": [
    "## Reflectie\n",
    "Aangezien ons concept al bijna een eindproduct was, was de ontvangen feedback vrij beperkt. De feedback was als volgt:\n",
    "De variatie van visualisaties was beperkt.\n",
    "Toelichting van visualisaties en variabelen was matig.\n",
    "Het gebrek aan multi-variable en interactieve visualisaties.\n",
    "\n",
    "De eerste twee punten waren heel eenvoudig op te lossen, maar uiteraard was het derde punt wat moeilijker. We probeerden verschillende variabelen binnen onze dataset te analyseren. Uiteindelijk hebben we correlaties gevonden tussen \"CPI average\", \"immigration rate\" en \"year\"."
   ]
  },
  {
   "cell_type": "markdown",
   "id": "6dda5bd0",
   "metadata": {},
   "source": [
    "## Werkverdeling\n",
    "\n",
    "#### Abuzar:\n",
    "- Algemene structuur van het dataverhaal gemaakt (wat komt waar)\n",
    "- Introductie geschreven\n",
    "- Pre-processing geschreven\n",
    "- Eerste perspectief man/vrouw bedacht en gecreëerd\n",
    "- Eerste visualisatie gemaakt\n",
    "- Bronnen toegevoegd voor visualisaties 1 en 2\n",
    "- Takenverdeling gecoördineerd\n",
    "\n",
    "#### Mohamed:\n",
    "- Uitleg voor visualisatie 3 geschreven\n",
    "- Geholpen bij het denkproces voor de plots\n",
    "- Geholpen met het maken van visualisatie 3\n",
    "- Geholpen met de introductie\n",
    "- Appendix, Reflectie, Overzicht geschreven\n",
    "- Bronnen toegevoegd voor visualisatie 3\n",
    "\n",
    "#### Mouad:\n",
    "- Visualisatie 2 gemaakt\n",
    "- Tekst voor visualisatie 2 geschreven\n",
    "- Geholpen met het maken van visualisatie 3\n",
    "- Visualisatie 5 gemaakt\n",
    "- Tekst voor visualisatie 5 geschreven\n",
    "- Feedback toegepast\n",
    "\n",
    "#### Yurish:\n",
    "- Alles gedaan voor visualisaties 4 en 6\n",
    "- Uitleg geschreven voor visualisaties 4 en 6\n",
    "- Jupyterbook-indeling verzorgd\n",
    "- Alles in Jupyter Notebook gezet\n",
    "- Appendix, Reflectie, Overzicht bijgewerkt\n",
    "- Toegepaste feedback\n",
    "\n",
    "### Overige taken\n",
    "De rest is samen gedaan."
   ]
  },
  {
   "cell_type": "markdown",
   "id": "60c837ac-639c-443c-a6e7-1d682c9398cf",
   "metadata": {},
   "source": [
    "## Referenties\n"
   ]
  },
  {
   "cell_type": "markdown",
   "id": "6e21c96d",
   "metadata": {},
   "source": [
    "1. Borjas, G. J. (2016, September 21). How Trump and Clinton would remake the economy. Politico Magazine. \n",
    "https://www.politico.com/magazine/story/2016/09/trump-clinton-immigration-economy-unemployment-jobs-214216/\n",
    "\n",
    "2. Vargas-Silva, C., & Sumption, M. (2023, March 24). The labour market effects of immigration. Migration Observatory. \n",
    "https://migrationobservatory.ox.ac.uk/resources/briefings/the-labour-market-effects-of-immigration/"
   ]
  }
 ],
 "metadata": {
  "celltoolbar": "Tags",
  "kernelspec": {
   "display_name": "Python 3 (ipykernel)",
   "language": "python",
   "name": "python3"
  },
  "language_info": {
   "codemirror_mode": {
    "name": "ipython",
    "version": 3
   },
   "file_extension": ".py",
   "mimetype": "text/x-python",
   "name": "python",
   "nbconvert_exporter": "python",
   "pygments_lexer": "ipython3",
   "version": "3.9.13"
  }
 },
 "nbformat": 4,
 "nbformat_minor": 5
}
